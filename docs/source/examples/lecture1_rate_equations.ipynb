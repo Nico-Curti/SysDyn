{
 "cells": [
  {
   "cell_type": "markdown",
   "metadata": {
    "id": "6-tM1zhyIqOp"
   },
   "source": [
    "\n",
    "# Introduction\n",
    "\n"
   ]
  },
  {
   "cell_type": "markdown",
   "metadata": {
    "id": "xka7-p61IvSV"
   },
   "source": [
    "The **rate law** or **rate equation** for a chemical reaction is an equation that links the *initial* or *forward reaction rate* with the *concentrations* or *pressures* of the reactants and constant parameters (normally rate coefficients and partial reaction orders).\n",
    "\n",
    "The **kinematic theory** studies how the reactants and products of a chemical reaction appear/disappear in terms of their velocity.\n",
    "\n",
    "To this purpose we need to model (under reasonable assumptions) the chemical reactions using (a set of) differential equations."
   ]
  },
  {
   "cell_type": "markdown",
   "metadata": {
    "id": "z3OFBvV-I0lu"
   },
   "source": [
    "The first law of the kinematic theory is called **law of mass action** (LAM): this law is based on the assumption that a large number of small particles (with an individual random kinematic motion) could be bring back to a \"low resolution\" model.\n",
    "\n",
    "In particular, the LAM states that the **velocity** of a chemical reaction is *proportional* to the concentration of the reactants and products, i.e\n",
    "\n",
    "$$\n",
    "\\alpha A + \\beta B \\cdots \\rightleftharpoons \\cdots \\sigma S + \\theta T\n",
    "$$\n",
    "\n",
    "where $\\alpha, \\beta, \\cdots$ are the numbers of molecules of types $A, B, \\cdots$."
   ]
  },
  {
   "cell_type": "markdown",
   "metadata": {
    "id": "HYhm5MFQI6zH"
   },
   "source": [
    "Using the symbol $[]$ to identify the **chemical concentration** of each species, using the LAM we can determine the set of **constants** which regulates the appearence/disappearence of the concetrantions\n",
    "\n",
    "$$\n",
    "k_+ [A]^\\alpha [B]^\\beta = \\mbox{rate of (appearence) reactants}\n",
    "$$\n",
    "$$\n",
    "k_- [S]^\\sigma [T]^\\tau = \\mbox{rate of (disappearence) products}\n",
    "$$\n"
   ]
  },
  {
   "cell_type": "markdown",
   "metadata": {
    "id": "hRLS3VgGI8YV"
   },
   "source": [
    "Using these reaction rates we can define the **equilibrium constant** of the reaction as\n",
    "\n",
    "$$\n",
    "K = \\frac{k_+}{k_-} = \\frac{[S]^\\sigma [T]^\\tau \\cdots}{[A]^\\alpha [B]^\\beta \\cdots}\n",
    "$$\n",
    "\n",
    "**Note:** This law is valid **only** if the number of particles/molecules are large enough ($\\equiv N_A$), since it based on the assumption of homogeneous concentrations (it derives from a physical-statistical description of the system)."
   ]
  },
  {
   "cell_type": "markdown",
   "metadata": {
    "id": "eNucHY6pJBED"
   },
   "source": [
    "We can broadly divide the physycal-statistical chemical reactions into two categories:\n",
    "\n",
    "* **reversible**\n",
    "\n",
    "$$\n",
    "A + A + B \\rightarrow A_2 B \\quad \\Rightarrow \\quad \\frac{d[A_2B]}{dt} = k [A]^2 [B]\n",
    "$$\n",
    "\n",
    "* **irreversible**\n",
    "\n",
    "$$\n",
    "A + A + B \\rightarrow C + D \\quad \\Rightarrow \\quad \\frac{d[C]}{dt} = k_{AB} [A]^2 [B] - k_{CD} [C][D]\n",
    "$$"
   ]
  },
  {
   "cell_type": "markdown",
   "metadata": {
    "id": "zWYrEUoLJvcG"
   },
   "source": [
    "# Zero Order Kinetic"
   ]
  },
  {
   "cell_type": "markdown",
   "metadata": {
    "id": "rwbLvOUHJ0lI"
   },
   "source": [
    "Zero-order reaction is the simplest case.\n",
    "\n",
    "For zero-order reactions, the reaction rate is **independent** of the concentration of a reactant, so that changing its concentration has no effect on the speed of the reaction. \n",
    "\n",
    "Thus, the concentration changes *linearly* with time. \n",
    "This may occur when there is a bottleneck which limits the number of reactant molecules that can react at the same time, for example if the reaction requires contact with an enzyme or a catalytic surface.\n",
    "\n",
    "$$\n",
    "R \\xrightarrow[]{k} P \\quad \\Rightarrow \\quad v = \\frac{d[A]}{dt} = -k\n",
    "$$\n",
    "\n",
    "The reaction above is an **irreversible** reaction and since there is not dependency on the concentrations we can conclude that the appearence rate of the product $P$ is equal to the disappearence rate of the reactant $R$, i.e all the reactant becomes product or (mathematically)\n",
    "\n",
    "$$\n",
    "\\frac{d[R]}{dt} = - \\frac{d[P]}{dt} = -k\n",
    "$$\n",
    "\n",
    "integrating this equation we obtain the solution\n",
    "\n",
    "$$\n",
    "P(t) = P_0 + k \\cdot t\n",
    "$$\n",
    "\n",
    "which a motion at **constant velocity** (a *linear system*) in which the concentration of the product increases linearly with the time."
   ]
  },
  {
   "cell_type": "markdown",
   "metadata": {
    "id": "kEFaIyA-J3iw"
   },
   "source": [
    "> Many enzyme-catalyzed reactions are zero order, provided that the reactant concentration is much greater than the enzyme concentration which controls the rate, so that the enzyme is saturated. \n",
    "\n",
    "> For example, the biological oxidation of ethanol to acetaldehyde by the enzyme liver alcohol dehydrogenase (LADH) is zero order in ethanol."
   ]
  },
  {
   "cell_type": "markdown",
   "metadata": {
    "id": "qaLukadkJ6PE"
   },
   "source": [
    "Let's try to implement the above consideration into a Python code.\n",
    "\n",
    "First of all we have to define our differential equation as a classical function of Python.\n",
    "\n",
    ">⚠️**Note:** A differential equation is essentially a derivative function.\n",
    "Since we are working into a discrete system (PC) we have to re-think the equation into its discrete form, using the formal definition\n",
    "\n",
    "$$\n",
    "f'(x) = \\lim_{\\Delta x \\rightarrow 0}\\frac{\\Delta y}{\\Delta x} = \\lim_{\\Delta x \\rightarrow 0}\\frac{f(x + \\Delta x) - f(x)}{\\Delta x}\n",
    "$$"
   ]
  },
  {
   "cell_type": "code",
   "execution_count": 1,
   "metadata": {
    "executionInfo": {
     "elapsed": 3,
     "status": "ok",
     "timestamp": 1632140534347,
     "user": {
      "displayName": "nico nico",
      "photoUrl": "https://lh3.googleusercontent.com/a/default-user=s64",
      "userId": "04264570794863623616"
     },
     "user_tz": -120
    },
    "id": "2G2KHDN0J_Ir"
   },
   "outputs": [],
   "source": [
    "import numpy as np\n",
    "\n",
    "def zero_order (x : np.ndarray, y0 : float, alpha : float) -> np.ndarray:\n",
    "    '''\n",
    "    Zero order kinetic\n",
    "    \n",
    "    Parameters\n",
    "    ----------\n",
    "        x : array-like\n",
    "            List of time points\n",
    "        \n",
    "        y0 : float\n",
    "            Initial condition of the reactant\n",
    "        \n",
    "        alpha : float\n",
    "            Constant of the reaction\n",
    "    \n",
    "    Returns\n",
    "    -------\n",
    "        y : array-like\n",
    "            The resulting product array    \n",
    "    '''\n",
    "    # determine the interval as diff\n",
    "    dx = x[1] - x[0] # Note: we are assuming it is constant!!\n",
    "    \n",
    "    # Create an empty buffer to store our results\n",
    "    # Its length must be greater than x since we want to set\n",
    "    # the initial condition!\n",
    "    y = np.empty(shape=(len(x) + 1, ), dtype=float)\n",
    "    # Set the initial condition\n",
    "    y[0] = y0\n",
    "    \n",
    "    # Integrate the equation using the Euler method\n",
    "    for i, _ in enumerate(x):\n",
    "        y[i + 1] = y[i] - alpha * dx\n",
    "\n",
    "    return y[:-1] # skip the latest point"
   ]
  },
  {
   "cell_type": "markdown",
   "metadata": {
    "id": "icaEk0nTKDhU"
   },
   "source": [
    "Now we can set a series of initial parameter and use them to simulate our model."
   ]
  },
  {
   "cell_type": "code",
   "execution_count": 2,
   "metadata": {
    "colab": {
     "base_uri": "https://localhost:8080/",
     "height": 420
    },
    "executionInfo": {
     "elapsed": 949,
     "status": "ok",
     "timestamp": 1632140549514,
     "user": {
      "displayName": "nico nico",
      "photoUrl": "https://lh3.googleusercontent.com/a/default-user=s64",
      "userId": "04264570794863623616"
     },
     "user_tz": -120
    },
    "id": "XMdBuGP4KArM",
    "outputId": "ea6056b1-c898-4db4-c056-4c393b330bfd"
   },
   "outputs": [
    {
     "data": {
      "text/plain": [
       "<matplotlib.legend.Legend at 0x1db18942460>"
      ]
     },
     "execution_count": 2,
     "metadata": {},
     "output_type": "execute_result"
    },
    {
     "data": {
      "image/png": "[encoded data removed]",
      "text/plain": [
       "<Figure size 576x432 with 1 Axes>"
      ]
     },
     "metadata": {
      "needs_background": "light"
     },
     "output_type": "display_data"
    }
   ],
   "source": [
    "import pylab as plt\n",
    "\n",
    "# initial conditions\n",
    "y0 = 10\n",
    "alpha = .5\n",
    "iterations = 1000\n",
    "dt = 1e-2\n",
    "\n",
    "x = np.arange(0, iterations*dt, dt)\n",
    "R = zero_order(x, y0, alpha)\n",
    "\n",
    "fig, ax = plt.subplots(nrows=1, ncols=1, figsize=(8, 6))\n",
    "ax.plot(x, R, label='Concentration Reactant')\n",
    "ax.set_xlabel('Time', fontsize=24)\n",
    "ax.set_ylabel('Concentration', fontsize=24)\n",
    "ax.legend()"
   ]
  },
  {
   "cell_type": "markdown",
   "metadata": {
    "id": "EDTQ3Ev7KHqx"
   },
   "source": [
    "#### Extra - C++ version"
   ]
  },
  {
   "cell_type": "markdown",
   "metadata": {
    "id": "n7a0ZzOcKK_g"
   },
   "source": [
    " For sake of completeness we implement the same functions also in C++.\n",
    " \n",
    " >⚠️**Note:** C++ is always **faster** than Python but more complex to write!\n",
    " > Furthermore, it is not straightforward the visualization of the results: if you are interested into a graphic library (please do not spend a lot of time to re-implement the same things!) you can use [GnuPlot](http://www.gnuplot.info/), [OpenCV](https://docs.opencv.org/3.4/d0/d1e/classcv_1_1plot_1_1Plot2d.html), or the easier [cv-plot](https://github.com/Profactor/cv-plot) libraries."
   ]
  },
  {
   "cell_type": "markdown",
   "metadata": {
    "id": "rd5xsjNGKPLv"
   },
   "source": [
    "```c++\n",
    "// g++ zero_order_kinetic.cpp -std=c++14 -O3 -o zero_order_kinetic\n",
    "\n",
    "#include <memory>\n",
    "#include <algorithm>\n",
    "#include <type_traits>\n",
    "\n",
    "// just to be sure that the given value is a floating point one...\n",
    "template < class type >\n",
    "using is_floating_point = typename std :: enable_if < std :: is_floating_point < type > :: value > :: type *;\n",
    "\n",
    "template < class type, is_floating_point < type > = nullptr >\n",
    "using array = std :: unique_ptr < type[] >;\n",
    " \n",
    "/**\n",
    "* @brief Zero order kinetic\n",
    "*\n",
    "* @param x List of time points.\n",
    "* @param y0 Initial condition of the reactant.\n",
    "* @param alpha Constant of the reaction.\n",
    "*\n",
    "* @tparam type Data-type of arrays\n",
    "* @tparam Length of time points.\n",
    "*\n",
    "* @return The resulting product array.\n",
    "*\n",
    "*/\n",
    "template < class type, int32_t N >\n",
    "array < type > zero_order (const array < type > & x, const type & y0, const type & alpha)\n",
    "{\n",
    "  // determine the interval as diff\n",
    "  const type dx = x[1] - x[0]; // Note: we are assuming it is constant!!\n",
    "  \n",
    "  // Create an empty buffer to store our results\n",
    "  array < type > y = std :: make_unique < type[] >(N);\n",
    "  // Set the initial condition\n",
    "  y[0] = y0;\n",
    "  \n",
    "  // Integrate the equation using the Euler method\n",
    "  for (int32_t i = 0; i < N - 1; ++i)\n",
    "    y[i + 1] = y[i] - alpha * dx;\n",
    "    \n",
    "  return y;\n",
    "}\n",
    "\n",
    "\n",
    "int32_t main (/*int32_t argc, char ** argv*/)\n",
    "{\n",
    "  const float y0 = 10.f;\n",
    "  const float alpha = 0.5f;\n",
    "  \n",
    "  const int32_t iterations = 1000;\n",
    "  const float dt = 1e-2f;\n",
    "  \n",
    "  array < float > x(new float[iterations]);\n",
    "  std :: generate_n(x.get(), iterations, [n = 0, dt] () mutable { return dt * n++; });\n",
    "  \n",
    "  array < float > R = zero_order < float, iterations >(x, y0, alpha);\n",
    "\n",
    "  return 0;\n",
    "}\n",
    "\n",
    "```"
   ]
  },
  {
   "cell_type": "markdown",
   "metadata": {
    "id": "aZ0Z50SIKTr9"
   },
   "source": [
    "# 1st Order kinetic"
   ]
  },
  {
   "cell_type": "markdown",
   "metadata": {
    "id": "iBgVUJ6lKYKe"
   },
   "source": [
    "A first order reaction depends on the concentration of only one reactant (a unimolecular reaction, i.e a reactant with a concentration exponent equal to 1). \n",
    "\n",
    "Other reactants can be present, but each will be zero order. \n",
    "\n",
    "The rate law for such a reaction is \n",
    "\n",
    "$$\n",
    "\\frac{d[R]}{dt} = -\\frac{d[P]}{dt} = -k[R]\n",
    "$$"
   ]
  },
  {
   "cell_type": "markdown",
   "metadata": {
    "id": "Yh8XEtBHKbUB"
   },
   "source": [
    "The solution of this differential equation is immediately given by\n",
    "\n",
    "$$\n",
    "R(t) = R_0 e^{-k\\cdot t}\n",
    "$$\n",
    "\n",
    "i.e an exponential disappearance of the reactant.\n",
    "\n",
    "From this equation we can easily extract the concentration of the product along the time considering that the **total concentration** must be **costant**, i.e\n",
    "\n",
    "$$\n",
    "[R + P] = [R] + [P]\n",
    "$$\n",
    "\n",
    "aka <span style=\"color:blue\">*omnia mutantur, nihil interit*</span>\n",
    "\n",
    ">⚠️**Note:** The two equations are not independent but one is the \"opposite\" of the other and thus there must be a conservation law!"
   ]
  },
  {
   "cell_type": "markdown",
   "metadata": {
    "id": "Dhv5o01BKfHY"
   },
   "source": [
    "Substituing the total concentration equation we have a system with 2 equations with 2 unknowns, from which we can determine the kinematic of the product concentration as\n",
    "\n",
    "$$\n",
    "P(t) = \\text{Tot} - R(t) = \\text{Tot} + (P_0 - \\text{Tot}) \\cdot e^{-k \\cdot t}\n",
    "$$\n",
    "\n",
    "which is a (positive) exponential behavior.\n",
    "\n",
    "> **Note:** When $P_0 = 0$ the above equation lead to $P(t) = \\text{Tot} \\cdot (1 - e^{-k\\cdot t})$ which represents a positive exponential growth."
   ]
  },
  {
   "cell_type": "markdown",
   "metadata": {
    "id": "nY9OvA_tKiBY"
   },
   "source": [
    "A classical example of first order kinetic is the **inter-conversion** system (aka **reversible reaction**)\n",
    "\n",
    "$$\n",
    "R \\rightleftharpoons P\n",
    "$$\n",
    "\n",
    "which lead to this couple of equations\n",
    "\n",
    "$$\n",
    "\\frac{d[R]}{dt} = -k_f \\cdot [R] + k_b \\cdot [P]\n",
    "$$\n",
    "$$\n",
    "\\frac{d[P]}{dt} = k_f \\cdot [R] - k_b \\cdot [P]\n",
    "$$\n",
    "\n",
    "where $k_f$ and $k_b$ represent the two constants of the reaction, *forward* and *backward* respectively.\n",
    "\n",
    "Let's try to implement these couple of equations in Python.\n",
    "\n",
    "We will use the same considerations proposed in the previous case, but in now we have to manage two equations (two arrays) at the same time."
   ]
  },
  {
   "cell_type": "code",
   "execution_count": 3,
   "metadata": {
    "executionInfo": {
     "elapsed": 568,
     "status": "ok",
     "timestamp": 1632140674173,
     "user": {
      "displayName": "nico nico",
      "photoUrl": "https://lh3.googleusercontent.com/a/default-user=s64",
      "userId": "04264570794863623616"
     },
     "user_tz": -120
    },
    "id": "AI2UQv-dKavp"
   },
   "outputs": [],
   "source": [
    "from scipy.integrate import odeint\n",
    "\n",
    "def conversion (y : tuple, t : np.ndarray, \n",
    "                kf : float, kb : float):\n",
    "    '''\n",
    "    1st order kinetic\n",
    "    \n",
    "    Conversion equation\n",
    "    \n",
    "    Parameters\n",
    "    ----------\n",
    "        y : tuple\n",
    "            Couple of product-reagents arrays\n",
    "        \n",
    "        t : array-like\n",
    "            List of time points\n",
    "        \n",
    "        kf : float\n",
    "            Forward constant\n",
    "        \n",
    "        kb : float\n",
    "            Backward constant\n",
    "    \n",
    "    Results\n",
    "    -------\n",
    "        delta : tuple\n",
    "            Next point of product-reagents arrays\n",
    "    '''\n",
    "\n",
    "    product, reagents = y\n",
    "    dp =  kf * reagents - kb * product\n",
    "    dr = -kf * reagents + kb * product\n",
    "\n",
    "    return (dp, dr)"
   ]
  },
  {
   "cell_type": "markdown",
   "metadata": {
    "id": "fdjCIJHrKlvf"
   },
   "source": [
    "In this case we will use the pre-built function provided by the `scipy` package for an accurate integration of these equations.\n",
    "\n",
    "The required arguments are:\n",
    "* the integration step function\n",
    "* the initial condition\n",
    "* the time array\n",
    "* the model parameters"
   ]
  },
  {
   "cell_type": "code",
   "execution_count": 4,
   "metadata": {
    "colab": {
     "base_uri": "https://localhost:8080/",
     "height": 420
    },
    "executionInfo": {
     "elapsed": 311,
     "status": "ok",
     "timestamp": 1632140689604,
     "user": {
      "displayName": "nico nico",
      "photoUrl": "https://lh3.googleusercontent.com/a/default-user=s64",
      "userId": "04264570794863623616"
     },
     "user_tz": -120
    },
    "id": "1I8rcK_pKkD2",
    "outputId": "e4b8fcbd-8cad-4377-c9af-8db8eefa94e3"
   },
   "outputs": [
    {
     "data": {
      "text/plain": [
       "<matplotlib.legend.Legend at 0x7f51d9022610>"
      ]
     },
     "execution_count": 4,
     "metadata": {},
     "output_type": "execute_result"
    },
    {
     "data": {
      "image/png": "[encoded data removed]",
      "text/plain": [
       "<Figure size 576x432 with 1 Axes>"
      ]
     },
     "metadata": {
      "needs_background": "light"
     },
     "output_type": "display_data"
    }
   ],
   "source": [
    "# initial conditions\n",
    "y0 = (0, 1.)\n",
    "kf, kb = (.3, .6)\n",
    "\n",
    "time = np.linspace(0, 10, 1000)\n",
    "res = odeint(conversion, y0, time, args=(kf, kb))\n",
    "total = np.sum(res, axis=1)\n",
    "\n",
    "fig, ax = plt.subplots(nrows=1, ncols=1, figsize=(8, 6))\n",
    "ax.plot(time, res[:, 0], label='Products')\n",
    "ax.plot(time, res[:, 1], label='Reactants')\n",
    "ax.plot(time, total, 'k--', label='Total', alpha=.5)\n",
    "ax.set_xlabel('Time', fontsize=24)\n",
    "ax.set_ylabel('Concentration', fontsize=24)\n",
    "ax.legend()"
   ]
  },
  {
   "cell_type": "markdown",
   "metadata": {
    "id": "N_VyDYUpKpxI"
   },
   "source": [
    "This plot well highlights one of the main characteristics of the reversible reactions: in these reactions the combination of products and reactants does not go to a completement *but* it goes to an **equilibrium**.\n",
    "\n",
    "From a kinetic point-of-view this behavior explains the coexistance of two elementary reactions (forward and backward) completely independent.\n",
    "\n",
    "For this reason the reaction is also called as **inter-conversion**, i.e the total velocity is given by the difference of the velocities of the two reactions."
   ]
  },
  {
   "cell_type": "markdown",
   "metadata": {
    "id": "gJI4Bn1CKs3O"
   },
   "source": [
    "Thus, given the following **inter-conversion** equation\n",
    "\n",
    "$$\n",
    "A + B \\underset{k_b}{\\stackrel{k_f}{\\rightleftharpoons}} C\n",
    "$$\n",
    "\n",
    "The velocities of the two reactions can be extimated as\n",
    "\n",
    "$$\n",
    "v_1 = -\\frac{d[A]}{dt} = - \\frac{d[B]}{dt} = k_f [A][B]\n",
    "$$\n",
    "$$\n",
    "v_2 = -\\frac{d[C]}{dt} = k_b [C]\n",
    "$$\n",
    "\n",
    "and the total velocity is given by\n",
    "\n",
    "$$\n",
    "v_{\\text{Tot}} = k_f [A][B] - k_b [C]\n",
    "$$"
   ]
  },
  {
   "cell_type": "markdown",
   "metadata": {
    "id": "p_Rgg_e_KvIs"
   },
   "source": [
    "In this situation we can define a **stationary state** when the two reaction rates will be equal\n",
    "\n",
    "$$\n",
    "k_f [A][B] = k_b [C] \\quad \\Rightarrow \\quad k_c = \\frac{k_f}{k_b}\n",
    "$$\n",
    "\n",
    "and the time required to reach this state will be given by\n",
    "\n",
    "$$\n",
    "\\tau = \\frac{1}{k_f + k_b}\n",
    "$$\n",
    "\n",
    "from which is estimated the classification between *fast* and *slow* reactions."
   ]
  },
  {
   "cell_type": "markdown",
   "metadata": {
    "id": "VfnAT0f-Kxi6"
   },
   "source": [
    "> **Example:** An example of this kind of reaction is given by the photoreceptor cells of the retina which transform the (input) light signals into (output) elettrica signals.\n",
    "In the biological field, an incoming signal transformed into another type of signal is modelled by a pluri-molecular kinetic reaction.\n",
    "\n",
    "> **Example:** A second example is given by the immunoglobulins (antibodies) of the immune system.\n",
    "The immune system is an ensemble of cells which produce proteins (immunoglobulins) and lymphocytes at the presence of antigen.\n",
    "The antibodies are exposed on the surface of the cells as receptors, aka \"controllers\" who check the adherence of extern antigen: when the antigen is combined with the receptor an immunitary response is made.\n",
    "In these terms we can model the bi-molecular kinetic reaction of the receptor (A) and the antigen (B) with these equations."
   ]
  },
  {
   "cell_type": "markdown",
   "metadata": {
    "id": "lyBQWDcyKz3B"
   },
   "source": [
    "#### Extra - C++ version"
   ]
  },
  {
   "cell_type": "markdown",
   "metadata": {
    "id": "sWwifYSZK3fH"
   },
   "source": [
    "As before, we propose the C++ counterpart of the same code.\n",
    "\n",
    ">⚠️**Note:** Unfortunately, C++ does not have a ready-to-use function for differential equation integration.\n",
    "> Thus, we need to integrate the 1st order kinetic equation by-hand."
   ]
  },
  {
   "cell_type": "markdown",
   "metadata": {
    "id": "kfu-PmMRK5kF"
   },
   "source": [
    "```c++\n",
    "// g++ fist_order_kinetic.cpp -std=c++14 -O3 -o fist_order_kinetic\n",
    "\n",
    "#include <memory>\n",
    "#include <algorithm>\n",
    "#include <type_traits>\n",
    "#include <cassert>\n",
    "\n",
    "template < class type >\n",
    "using is_floating_point = typename std :: enable_if < std :: is_floating_point < type > :: value > :: type *;\n",
    "\n",
    "template < class type, is_floating_point < type > = nullptr >\n",
    "using array = std :: unique_ptr < type[] >;\n",
    "\n",
    "/**\n",
    "* @brief 1st order kinetic\n",
    "*\n",
    "* @param x List of time points.\n",
    "* @param p0 Initial condition of the product.\n",
    "* @param r0 Initial condition of the reagent.\n",
    "* @param kf Constant of the forward reaction.\n",
    "* @param kb Constant of the backward reaction.\n",
    "* @param P The resulting product array.\n",
    "* @param R The resulting reagent array.\n",
    "*\n",
    "* @tparam type Data-type of arrays\n",
    "* @tparam Length of time points.\n",
    "*\n",
    "*/\n",
    "template < class type, int32_t N >\n",
    "void first_order (const array < type > & x, const type & p0, const type & r0,\n",
    "                  const type & kf, const type & kb,\n",
    "                  array < type > & P, array < type > & R\n",
    "                 )\n",
    "{\n",
    "  // determine the interval as diff\n",
    "  const type dx = x[1] - x[0]; // Note: we are assuming it is constant!!\n",
    "\n",
    "  // Set the initial condition\n",
    "  P[0] = p0;\n",
    "  R[0] = r0;\n",
    "\n",
    "  // Integrate the equation using the Euler method\n",
    "  for (int32_t i = 0; i < N - 1; ++i)\n",
    "  {\n",
    "    P[i + 1] = P[i] + ( kf * R[i] - kb * P[i]) * dx;\n",
    "    R[i + 1] = R[i] + (-kf * R[i] + kb * P[i]) * dx;\n",
    "  }\n",
    "}\n",
    "\n",
    "int32_t main (/*int32_t argc, char ** argv*/)\n",
    "{\n",
    "  const float p0 = 0.f;\n",
    "  const float r0 = 1.f;\n",
    "  const float kf = 0.3f;\n",
    "  const float kb = 0.6f;\n",
    "\n",
    "  const int32_t iterations = 1000;\n",
    "  const float dt = 1e-2f;\n",
    "\n",
    "  array < float > time(new float[iterations]);\n",
    "  std :: generate_n(time.get(), iterations, [n = 0, dt] () mutable { return dt * n++; });\n",
    "\n",
    "  array < float > resulting_product(new float[iterations]);\n",
    "  array < float > resulting_reagent(new float[iterations]);\n",
    "  array < float > resulting_total(new float[iterations]);\n",
    "\n",
    "  first_order < float, iterations >(time, p0, r0, kf, kb, resulting_product, resulting_reagent);\n",
    "\n",
    "  std :: transform (resulting_product.get(), resulting_product.get() + iterations + 1,\n",
    "                    resulting_reagent.get(),\n",
    "                    resulting_total.get(), std :: plus < float >());\n",
    "\n",
    "  // consistency check -> total concentration must be costant and equal to 1. (less than numerical precision!)\n",
    "  assert (std :: all_of(resulting_total.get(), resulting_total.get() + iterations,\n",
    "                        [] (const float & tot) { return std :: abs(tot - 1.) < 1e-5f; }));\n",
    "\n",
    "  return 0;\n",
    "}\n",
    "\n",
    "```"
   ]
  }
 ],
 "metadata": {
  "colab": {
   "authorship_tag": "ABX9TyNkVhiLa6StNFNOWrpZbaGP",
   "collapsed_sections": [],
   "name": "lecture1_rate_equations.ipynb",
   "provenance": [],
   "toc_visible": true
  },
  "kernelspec": {
   "display_name": "Python 3",
   "language": "python",
   "name": "python3"
  },
  "language_info": {
   "codemirror_mode": {
    "name": "ipython",
    "version": 3
   },
   "file_extension": ".py",
   "mimetype": "text/x-python",
   "name": "python",
   "nbconvert_exporter": "python",
   "pygments_lexer": "ipython3",
   "version": "3.8.5"
  }
 },
 "nbformat": 4,
 "nbformat_minor": 1
}
