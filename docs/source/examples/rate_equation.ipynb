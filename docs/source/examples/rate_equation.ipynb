{
 "cells": [
  {
   "cell_type": "markdown",
   "metadata": {},
   "source": [
    "## Rate equations"
   ]
  },
  {
   "cell_type": "markdown",
   "metadata": {},
   "source": [
    "The **rate law** or **rate equation** for a chemical reaction is an equation that links the *initial* or *forward reaction rate* with the *concentrations* or *pressures* of the reactants and constant parameters (normally rate coefficients and partial reaction orders).\n",
    "\n",
    "The **kinematic theory** studies how the reactants and products of a chemical reaction appear/disappear in terms of their velocity.\n",
    "\n",
    "To this purpose we need to model (under reasonable assumptions) the chemical reactions using (a set of) differential equations."
   ]
  },
  {
   "cell_type": "markdown",
   "metadata": {},
   "source": [
    "The first law of the kinematic theory is called **law of mass action** (LAM): this law is based on the assumption that a large number of small particles (with an individual random kinematic motion) could be bring back to a \"low resolution\" model.\n",
    "\n",
    "In particular, the LAM states that the **velocity** of a chemical reaction is *proportional* to the concentration of the reactants and products, i.e\n",
    "\n",
    "$$\n",
    "\\alpha A + \\beta B \\cdots \\rightleftharpoons \\cdots \\sigma S + \\theta T\n",
    "$$\n",
    "\n",
    "where $\\alpha, \\beta, \\cdots$ are the numbers of molecules of types $A, B, \\cdots$."
   ]
  },
  {
   "cell_type": "markdown",
   "metadata": {},
   "source": [
    "Using the symbol $[]$ to identify the **chemical concentration** of each species, using the LAM we can determine the set of **constants** which regulates the appearence/disappearence of the concetrantions\n",
    "\n",
    "$$\n",
    "k_+ [A]^\\alpha [B]^\\beta = \\mbox{rate of (appearence) reactants}\n",
    "$$\n",
    "$$\n",
    "k_- [S]^\\sigma [T]^\\tau = \\mbox{rate of (disappearence) products}\n",
    "$$\n"
   ]
  },
  {
   "cell_type": "markdown",
   "metadata": {},
   "source": [
    "Using these reaction rates we can define the **equilibrium constant** of the reaction as\n",
    "\n",
    "$$\n",
    "K = \\frac{k_+}{k_-} = \\frac{[S]^\\sigma [T]^\\tau \\cdots}{[A]^\\alpha [B]^\\beta \\cdots}\n",
    "$$\n",
    "\n",
    "**Note:** This law is valid **only** if the number of particles/molecules are large enough ($\\equiv N_A$), since it based on the assumption of homogeneous concentrations (it derives from a physical-statistical description of the system)."
   ]
  },
  {
   "cell_type": "markdown",
   "metadata": {},
   "source": [
    "We can broadly divide the physycal-statistical chemical reactions into two categories:\n",
    "\n",
    "* **reversible**\n",
    "\n",
    "$$\n",
    "A + A + B \\rightarrow A_2 B \\quad \\Rightarrow \\quad \\frac{d[A_2B]}{dt} = k [A]^2 [B]\n",
    "$$\n",
    "\n",
    "* **irreversible**\n",
    "\n",
    "$$\n",
    "A + A + B \\rightarrow C + D \\quad \\Rightarrow \\quad \\frac{d[C]}{dt} = k_{AB} [A]^2 [B] - k_{CD} [C][D]\n",
    "$$"
   ]
  },
  {
   "cell_type": "markdown",
   "metadata": {},
   "source": [
    " "
   ]
  },
  {
   "cell_type": "markdown",
   "metadata": {},
   "source": [
    " "
   ]
  },
  {
   "cell_type": "markdown",
   "metadata": {},
   "source": [
    " "
   ]
  },
  {
   "cell_type": "markdown",
   "metadata": {},
   "source": [
    "## Zero Order kinetic"
   ]
  },
  {
   "cell_type": "markdown",
   "metadata": {},
   "source": [
    "Zero-order reaction is the simplest case.\n",
    "\n",
    "For zero-order reactions, the reaction rate is **independent** of the concentration of a reactant, so that changing its concentration has no effect on the speed of the reaction. \n",
    "\n",
    "Thus, the concentration changes *linearly* with time. \n",
    "This may occur when there is a bottleneck which limits the number of reactant molecules that can react at the same time, for example if the reaction requires contact with an enzyme or a catalytic surface.\n",
    "\n",
    "$$\n",
    "R \\xrightarrow[]{k} P \\quad \\Rightarrow \\quad v = \\frac{d[A]}{dt} = -k\n",
    "$$\n",
    "\n",
    "The reaction above is an **irreversible** reaction and since there is not dependency on the concentrations we can conclude that the appearence rate of the product $P$ is equal to the disappearence rate of the reactant $R$, i.e all the reactant becomes product or (mathematically)\n",
    "\n",
    "$$\n",
    "\\frac{d[R]}{dt} = - \\frac{d[P]}{dt} = -k\n",
    "$$\n",
    "\n",
    "integrating this equation we obtain the solution\n",
    "\n",
    "$$\n",
    "P(t) = P_0 + k \\cdot t\n",
    "$$\n",
    "\n",
    "which a motion at **constant velocity** (a *linear system*) in which the concentration of the product increases linearly with the time."
   ]
  },
  {
   "cell_type": "markdown",
   "metadata": {},
   "source": [
    "> Many enzyme-catalyzed reactions are zero order, provided that the reactant concentration is much greater than the enzyme concentration which controls the rate, so that the enzyme is saturated. \n",
    "\n",
    "> For example, the biological oxidation of ethanol to acetaldehyde by the enzyme liver alcohol dehydrogenase (LADH) is zero order in ethanol."
   ]
  },
  {
   "cell_type": "markdown",
   "metadata": {},
   "source": [
    "Let's try to implement the above consideration into a Python code.\n",
    "\n",
    "First of all we have to define our differential equation as a classical function of Python.\n",
    "\n",
    ">⚠️**Note:** A differential equation is essentially a derivative function.\n",
    "Since we are working into a discrete system (PC) we have to re-think the equation into its discrete form, using the formal definition\n",
    "\n",
    "$$\n",
    "f'(x) = \\lim_{\\Delta x \\rightarrow 0}\\frac{\\Delta y}{\\Delta x} = \\lim_{\\Delta x \\rightarrow 0}\\frac{f(x + \\Delta x) - f(x)}{\\Delta x}\n",
    "$$"
   ]
  },
  {
   "cell_type": "code",
   "execution_count": 2,
   "metadata": {},
   "outputs": [],
   "source": [
    "import numpy as np\n",
    "\n",
    "def zero_order (x, y0, alpha):\n",
    "    '''\n",
    "    Zero order kinetic\n",
    "    \n",
    "    Parameters\n",
    "    ----------\n",
    "        x : array-like\n",
    "            List of time points\n",
    "        \n",
    "        y0 : float\n",
    "            Initial condition of the reactant\n",
    "        \n",
    "        alpha : float\n",
    "            Constant of the reaction\n",
    "    \n",
    "    Returns\n",
    "    -------\n",
    "        y : array-like\n",
    "            The resulting product array    \n",
    "    '''\n",
    "    # determine the interval as diff\n",
    "    dx = x[1] - x[0] # Note: we are assuming it is constant!!\n",
    "    \n",
    "    # Create an empty buffer to store our results\n",
    "    # Its lenght must be greater than x since we want to set\n",
    "    # the initial condition!\n",
    "    y = np.empty(shape=(len(x) + 1, ), dtype=float)\n",
    "    # Set the initial condition\n",
    "    y[0] = y0\n",
    "    \n",
    "    # Integrate the equation using the Euler method\n",
    "    for i, _ in enumerate(x):\n",
    "        y[i + 1] = y[i] * (1. - alpha * dx)\n",
    "\n",
    "    return y[:-1] # skip the latest point"
   ]
  },
  {
   "cell_type": "markdown",
   "metadata": {},
   "source": [
    "Now we can set a series of initial parameter and use them to simulate our model."
   ]
  },
  {
   "cell_type": "code",
   "execution_count": 23,
   "metadata": {},
   "outputs": [
    {
     "data": {
      "text/plain": [
       "<matplotlib.legend.Legend at 0x7f13cc7f3250>"
      ]
     },
     "execution_count": 23,
     "metadata": {},
     "output_type": "execute_result"
    },
    {
     "data": {
      "image/png": "[encoded data removed]",
      "text/plain": [
       "<Figure size 576x432 with 1 Axes>"
      ]
     },
     "metadata": {
      "needs_background": "light"
     },
     "output_type": "display_data"
    }
   ],
   "source": [
    "import pylab as plt\n",
    "\n",
    "# initial conditions\n",
    "y0 = 10\n",
    "alpha = .5\n",
    "iterations = 1000\n",
    "dt = 1e-2\n",
    "\n",
    "x = np.arange(0, iterations*dt, dt)\n",
    "R = zero_order(x, y0, alpha)\n",
    "\n",
    "fig, ax = plt.subplots(nrows=1, ncols=1, figsize=(8, 6))\n",
    "ax.plot(x, R, label='Concentration Reactant')\n",
    "ax.legend()"
   ]
  },
  {
   "cell_type": "markdown",
   "metadata": {},
   "source": [
    " "
   ]
  },
  {
   "cell_type": "markdown",
   "metadata": {},
   "source": [
    " "
   ]
  },
  {
   "cell_type": "markdown",
   "metadata": {},
   "source": [
    " "
   ]
  },
  {
   "cell_type": "markdown",
   "metadata": {},
   "source": [
    " "
   ]
  },
  {
   "cell_type": "markdown",
   "metadata": {},
   "source": [
    "## 1st Order kinetic"
   ]
  },
  {
   "cell_type": "markdown",
   "metadata": {},
   "source": [
    "A first order reaction depends on the concentration of only one reactant (a unimolecular reaction, i.e a reactant with a concentration exponent equal to 1). \n",
    "\n",
    "Other reactants can be present, but each will be zero order. \n",
    "\n",
    "The rate law for such a reaction is \n",
    "\n",
    "$$\n",
    "\\frac{d[R]}{dt} = -\\frac{d[P]}{dt} = -k[R]\n",
    "$$"
   ]
  },
  {
   "cell_type": "markdown",
   "metadata": {},
   "source": [
    "The solution of this differential equation is immediately given by\n",
    "\n",
    "$$\n",
    "R(t) = R_0 e^{(-k\\cdot t)}\n",
    "$$\n",
    "\n",
    "i.e an exponential disappearance of the reactant.\n",
    "\n",
    "From this equation we can easily extract the concentration of the product along the time considering that the **total concentration** must be **costant**, i.e\n",
    "\n",
    "$$\n",
    "[R + P] = [R] + [P]\n",
    "$$\n",
    "\n",
    "aka <span style=\"color:blue\">*omnia mutantur, nihil interit*</span>\n",
    "\n",
    ">⚠️**Note:** The two equations are not independent but one is the \"opposite\" of the other and thus there must be a conservation law!"
   ]
  },
  {
   "cell_type": "markdown",
   "metadata": {},
   "source": [
    "Substituing the total concentration equation we have a system with 2 equations with 2 unknowns, from which we can determine the kinematic of the product concentration as\n",
    "\n",
    "$$\n",
    "P(t) = \\text{Tot} - R(t) = \\text{Tot} + (P_0 - \\text{Tot}) \\cdot e^{-k \\cdot t}\n",
    "$$\n",
    "\n",
    "which is a (positive) exponential behavior.\n",
    "\n",
    "> **Note:** When $P_0 = 0$ the above equation lead to $P(t) = \\text{Tot} \\cdot (1 - e^{-k\\cdot t})$ which represents a positive exponential growth."
   ]
  },
  {
   "cell_type": "markdown",
   "metadata": {},
   "source": [
    "A classical example of first order kinetic is the **inter-conversion** system (aka **reversible reaction**)\n",
    "\n",
    "$$\n",
    "R \\rightleftharpoons P\n",
    "$$\n",
    "\n",
    "which lead to this couple of equations\n",
    "\n",
    "$$\n",
    "\\frac{d[R]}{dt} = -k_f \\cdot [R] + k_b \\cdot [P]\n",
    "$$\n",
    "$$\n",
    "\\frac{d[P]}{dt} = k_f \\cdot [R] - k_b \\cdot [P]\n",
    "$$\n",
    "\n",
    "where $k_f$ and $k_b$ represent the two constants of the reaction, *forward* and *backward* respectively.\n",
    "\n",
    "Let's try to implement these couple of equations in Python.\n",
    "\n",
    "We will use the same considerations proposed in the previous case, but in now we have to manage two equations (two arrays) at the same time."
   ]
  },
  {
   "cell_type": "code",
   "execution_count": 24,
   "metadata": {},
   "outputs": [],
   "source": [
    "from scipy.integrate import odeint\n",
    "\n",
    "def conversion (y, t, kf, kb):\n",
    "\n",
    "    product, reagents = y\n",
    "    dp =  kf * reagents - kb * product\n",
    "    dr = -kf * reagents + kb * product\n",
    "\n",
    "    return (dp, dr)"
   ]
  },
  {
   "cell_type": "markdown",
   "metadata": {},
   "source": [
    "In this case we will use the pre-built function provided by the `scipy` package for an accurate integration of these equations.\n",
    "\n",
    "The required arguments are:\n",
    "* the integration step function\n",
    "* the initial condition\n",
    "* the time array\n",
    "* the model parameters"
   ]
  },
  {
   "cell_type": "code",
   "execution_count": 26,
   "metadata": {},
   "outputs": [
    {
     "data": {
      "text/plain": [
       "<matplotlib.legend.Legend at 0x7f139cfafac0>"
      ]
     },
     "execution_count": 26,
     "metadata": {},
     "output_type": "execute_result"
    },
    {
     "data": {
      "image/png": "[encoded data removed]",
      "text/plain": [
       "<Figure size 576x432 with 1 Axes>"
      ]
     },
     "metadata": {
      "needs_background": "light"
     },
     "output_type": "display_data"
    }
   ],
   "source": [
    "# initial conditions\n",
    "y0 = (0, 1.)\n",
    "kf, kb = (.3, .6)\n",
    "\n",
    "time = np.linspace(0, 10, 1000)\n",
    "res = odeint(conversion, y0, time, args=(kf, kb))\n",
    "total = np.sum(res, axis=1)\n",
    "\n",
    "fig, ax = plt.subplots(nrows=1, ncols=1, figsize=(8, 6))\n",
    "ax.plot(time, res[:, 0], label='Products')\n",
    "ax.plot(time, res[:, 1], label='Reactants')\n",
    "ax.plot(time, total, 'k--', label='Total', alpha=.5)\n",
    "ax.legend()"
   ]
  },
  {
   "cell_type": "markdown",
   "metadata": {},
   "source": [
    "This plot well highlights one of the main characteristics of the reversible reactions: in these reactions the combination of products and reactants does not go to a completement *but* it goes to an **equilibrium**.\n",
    "\n",
    "From a kinetic point-of-view this behavior explains the coexistance of two elementary reactions (forward and backward) completely independent.\n",
    "\n",
    "For this reason the reaction is also called as **inter-conversion**, i.e the total velocity is given by the difference of the velocities of the two reactions."
   ]
  },
  {
   "cell_type": "markdown",
   "metadata": {},
   "source": [
    "Thus, given the following **inter-conversion** equation\n",
    "\n",
    "$$\n",
    "A + B \\underset{k_b}{\\stackrel{k_f}{\\rightleftharpoons}} C\n",
    "$$\n",
    "\n",
    "The velocities of the two reactions can be extimated as\n",
    "\n",
    "$$\n",
    "v_1 = -\\frac{d[A]}{dt} = - \\frac{d[B]}{dt} = k_f [A][B]\n",
    "$$\n",
    "$$\n",
    "v_2 = -\\frac{d[C]}{dt} = k_b [C]\n",
    "$$\n",
    "\n",
    "and the total velocity is given by\n",
    "\n",
    "$$\n",
    "v_{\\text{Tot}} = k_f [A][B] - k_b [C]\n",
    "$$"
   ]
  },
  {
   "cell_type": "markdown",
   "metadata": {},
   "source": [
    "In this situation we can define a **stationary state** when the two reaction rates will be equal\n",
    "\n",
    "$$\n",
    "k_f [A][B] = k_b [C] \\quad \\Rightarrow \\quad k_c = \\frac{k_f}{k_b}\n",
    "$$\n",
    "\n",
    "and the time required to reach this state will be given by\n",
    "\n",
    "$$\n",
    "\\tau = \\frac{1}{k_f + k_b}\n",
    "$$\n",
    "\n",
    "from which is estimated the classification between *fast* and *slow* reactions."
   ]
  },
  {
   "cell_type": "markdown",
   "metadata": {},
   "source": [
    "> **Example:** An example of this kind of reaction is given by the photoreceptor cells of the retina which transform the (input) light signals into (output) elettrica signals.\n",
    "In the biological field, an incoming signal transformed into another type of signal is modelled by a pluri-molecular kinetic reaction.\n",
    "\n",
    "> **Example:** A second example is given by the immunoglobulins (antibodies) of the immune system.\n",
    "The immune system is an ensemble of cells which produce proteins (immunoglobulins) and lymphocytes at the presence of antigen.\n",
    "The antibodies are exposed on the surface of the cells as receptors, aka \"controllers\" who check the adherence of extern antigen: when the antigen is combined with the receptor an immunitary response is made.\n",
    "In these terms we can model the bi-molecular kinetic reaction of the receptor (A) and the antigen (B) with these equations."
   ]
  },
  {
   "cell_type": "markdown",
   "metadata": {},
   "source": [
    " "
   ]
  },
  {
   "cell_type": "markdown",
   "metadata": {},
   "source": [
    " "
   ]
  },
  {
   "cell_type": "markdown",
   "metadata": {},
   "source": [
    "## Michaelis Menten"
   ]
  },
  {
   "cell_type": "markdown",
   "metadata": {},
   "source": [
    "The Michaelis-Menten (MM) kinetic describes the rate of a chemical reaction catalized by enzymes, varying its concentration and the concentration of the substrate.\n",
    "\n",
    "In biochemistry, Michaelis–Menten kinetics is one of the best-known models of enzyme kinetics.\n",
    "\n",
    "It is named after German biochemist Leonor Michaelis and Canadian physician Maud Menten.\n",
    "\n",
    ">**Def:** Catalysis is the process of increasing the rate of a chemical reaction by adding a substance known as a catalyst.\n",
    "Catalysts are not consumed in the catalyzed reaction but can act repeatedly.\n",
    "\n",
    ">**Def:** Enzymes are proteins that act as biological catalysts (biocatalysts). \n",
    "Catalysts accelerate chemical reactions. \n",
    "The molecules upon which enzymes may act are called substrates, and the enzyme converts the substrates into different molecules known as products. "
   ]
  },
  {
   "cell_type": "markdown",
   "metadata": {},
   "source": [
    "The MM kinetic is model as\n",
    "\n",
    "$$\n",
    "E + S \\underset{k_b}{\\stackrel{k_f}{\\rightleftharpoons}} ES \\xrightarrow[]{k_c} E + P\n",
    "$$\n",
    "\n",
    "where $k_c$ is the **catalytic constant** which regulates the rate of the enzymatic reaction.\n",
    "\n",
    "The link between enzyme and substrate allows to reach the activation energy of the (*irreversible*) reaction.\n",
    "\n",
    "The enzyme is highly specific for its substrate and their link is called **lock and key** mechanism."
   ]
  },
  {
   "cell_type": "markdown",
   "metadata": {},
   "source": [
    "**TODO**: insert example code here"
   ]
  },
  {
   "cell_type": "markdown",
   "metadata": {},
   "source": []
  },
  {
   "cell_type": "markdown",
   "metadata": {},
   "source": [
    "## Toggle Switch"
   ]
  },
  {
   "cell_type": "markdown",
   "metadata": {},
   "source": []
  },
  {
   "cell_type": "markdown",
   "metadata": {},
   "source": []
  },
  {
   "cell_type": "markdown",
   "metadata": {},
   "source": []
  },
  {
   "cell_type": "markdown",
   "metadata": {},
   "source": []
  },
  {
   "cell_type": "markdown",
   "metadata": {},
   "source": [
    "## A more advanced model - Brusselator"
   ]
  },
  {
   "cell_type": "markdown",
   "metadata": {},
   "source": [
    "The Brusselator is a theoretical model for a type of autocatalytic reaction. \n",
    "\n",
    "The Brusselator model was proposed by Ilya Prigogine and his collaborators at the Université Libre de Bruxelles.\n",
    "It is a portmanteau of Brussels and oscillator. \n",
    "\n",
    "It is characterized by the reactions \n",
    "\n",
    "$$\n",
    "\\quad A\\quad \\quad \\rightarrow \\quad\\quad X\n",
    "$$\n",
    "$$\n",
    "B + X\\quad \\quad \\rightarrow \\quad\\quad Y + C\n",
    "$$\n",
    "$$\n",
    "2X + Y \\quad \\rightarrow \\quad\\quad 3X\n",
    "$$\n",
    "$$\n",
    "\\quad X\\quad \\quad \\rightarrow \\quad\\quad D\n",
    "$$"
   ]
  },
  {
   "cell_type": "markdown",
   "metadata": {},
   "source": [
    "We can study the model assuming that $A$, $B$, $C$ and $D$ concentrations remain constants. \n",
    "\n",
    "In this way the only variables of the system are $X$ and $Y$.\n",
    "\n",
    "The equations can be rewritten as\n",
    "\n",
    "$$\n",
    "\\frac{d[X]}{dt} = +V_1  \\quad\\quad\\quad  \\frac{d[Y]}{dt} =\\quad0\n",
    "$$\n",
    "$$\n",
    "\\frac{d[X]}{dt} = -V_2  \\quad\\quad\\quad  \\frac{d[Y]}{dt} = +V_2\n",
    "$$\n",
    "$$\n",
    "\\frac{d[X]}{dt} = +V_3  \\quad\\quad\\quad  \\frac{d[Y]}{dt} = -V_3\n",
    "$$\n",
    "$$\n",
    "\\frac{d[X]}{dt} = -V_4  \\quad\\quad\\quad  \\frac{d[Y]}{dt} =\\quad0\n",
    "$$"
   ]
  },
  {
   "cell_type": "markdown",
   "metadata": {},
   "source": [
    "Then, following the LAM and combining the previous equations we obtain\n",
    "\n",
    "$$\n",
    "\\frac{d[X]}{dt} = [A] - [B]x + [X]^2[Y] - [X]\n",
    "$$\n",
    "$$\n",
    "\\frac{d[Y]}{dt} = [B]x - [X]^2[Y]\n",
    "$$\n",
    "\n",
    "where, for convenience, the rate constants have been set to 1. "
   ]
  },
  {
   "cell_type": "markdown",
   "metadata": {},
   "source": [
    "First of all we can study the stability points of this system of equations.\n",
    "\n",
    "This can be achieved evaluating the derivative equation (posing their values to null)\n",
    "\n",
    "$$\n",
    "A - Bx + x^2y - x = 0\n",
    "$$\n",
    "$$\n",
    "Bx - x^2y = 0\n",
    "$$\n",
    "\n",
    "The solution of this system (very easy) lead to a single **critial point**\n",
    "\n",
    "$$\n",
    "(A, \\frac{B}{A})\n",
    "$$\n",
    "\n",
    "and inserting this point into the equations we obtained the Jacobian Matrix of the system\n",
    "\n",
    "$$\n",
    "J = \\begin{bmatrix} B - 1 & A^2 \\\\ -B & -A^2 \\end{bmatrix}\n",
    "$$\n",
    "\n",
    "from which we can evaluate the characteristic equation (aka determinant)\n",
    "\n",
    "$$\n",
    "L^2 + (1 - B + A^2) L + A^2 = 0\n",
    "$$\n",
    "\n",
    "This analysis lead to a couple of eigenvectors of the $J$ matrix which depend by the following equations\n",
    "\n",
    "$$\n",
    "1 - B + A^2 \\quad\\quad\\quad \\Delta = (1 - B + A^2)^2 - 4 A^2\n",
    "$$"
   ]
  },
  {
   "cell_type": "markdown",
   "metadata": {},
   "source": [
    "Now it is time to move our analysis from the math to the Python code.\n",
    "\n",
    "We aim to visualize the solution of the system varying the two parameters $A$ and $B$.\n",
    "\n",
    "First of all, we have to define the equations of our system and the integration algorithm (in this example we will use a Runge-Kutta 4th, ref. [here](https://en.wikipedia.org/wiki/Runge%E2%80%93Kutta_methods))."
   ]
  },
  {
   "cell_type": "code",
   "execution_count": 27,
   "metadata": {},
   "outputs": [],
   "source": [
    "Vx = lambda x, y, A, B : A + x*x*y - B*x - x\n",
    "Vy = lambda x, y, A, B : B*x - x*x*y\n",
    "\n",
    "def RK4 (x, y, dt, A, B):\n",
    "\n",
    "    kx1 = Vx(x, y, A, B)\n",
    "    ky1 = Vy(x, y, A, B)\n",
    "\n",
    "    kx2 = Vx(x, y, A, B) + dt * .5 * ky1\n",
    "    ky2 = Vy(x, y, A, B) - dt * .5 * kx1\n",
    "\n",
    "    kx3 = Vx(x, y, A, B) + dt * .5 * ky2\n",
    "    ky3 = Vy(x, y, A, B) - dt * .5 * kx2\n",
    "\n",
    "    kx4 = Vx(x, y, A, B) + dt * ky3\n",
    "    ky4 = Vy(x, y, A, B) - dt * kx3\n",
    "\n",
    "    x_new = x + dt / 6 * (kx1 + 2. * kx2 + 2. * kx3 + kx4)\n",
    "    y_new = y + dt / 6 * (ky1 + 2. * ky2 + 2. * ky3 + ky4)\n",
    "\n",
    "    return (x_new, y_new)"
   ]
  },
  {
   "cell_type": "markdown",
   "metadata": {},
   "source": [
    "Now we can declare our initial conditions and move to the system integration."
   ]
  },
  {
   "cell_type": "code",
   "execution_count": 28,
   "metadata": {},
   "outputs": [],
   "source": [
    "# initial conditions\n",
    "A, B = (.5, 2.)\n",
    "\n",
    "dt = 1e-2\n",
    "iterations = 10000\n",
    "\n",
    "time = np.linspace(0, dt * iterations, iterations)\n",
    "x = np.empty(shape=(iterations + 1), dtype=float)\n",
    "y = np.empty(shape=(iterations + 1), dtype=float)\n",
    "\n",
    "x[0] = 1.6\n",
    "y[0] = 2.8\n",
    "\n",
    "for i in range(0, iterations):\n",
    "    x[i + 1], y[i + 1] = RK4(x[i], y[i], dt, A, B)"
   ]
  },
  {
   "cell_type": "code",
   "execution_count": 29,
   "metadata": {},
   "outputs": [
    {
     "data": {
      "image/png": "[encoded data removed]",
      "text/plain": [
       "<Figure size 1152x432 with 2 Axes>"
      ]
     },
     "metadata": {
      "needs_background": "light"
     },
     "output_type": "display_data"
    }
   ],
   "source": [
    "fig, (ax1, ax2) = plt.subplots(nrows=1, ncols=2, figsize=(16, 6))\n",
    "ax1.set_xlabel('Time', fontsize=14)\n",
    "ax1.set_ylabel('', fontsize=14)\n",
    "ax1.set_title('Brusselator', fontsize=14)\n",
    "\n",
    "l1, = ax1.plot(time, x[:-1], color='r', label='x')\n",
    "l2, = ax1.plot(time, y[:-1], color='b', label='y')\n",
    "\n",
    "ax2.set_xlabel('X', fontsize=14)\n",
    "ax2.set_ylabel('Y', fontsize=14)\n",
    "ax2.set_title('Phase Space', fontsize=14)\n",
    "\n",
    "l3, = ax2.plot(x, y, color='b')\n",
    "\n",
    "ax1.margins(x=0)\n",
    "ax2.margins(x=0)"
   ]
  },
  {
   "cell_type": "markdown",
   "metadata": {},
   "source": [
    "Now we can see how this system changes using different (and critical) parameters of $A$ and $B$."
   ]
  },
  {
   "cell_type": "code",
   "execution_count": 30,
   "metadata": {},
   "outputs": [
    {
     "data": {
      "image/png": "[encoded data removed]",
      "text/plain": [
       "<Figure size 1152x432 with 2 Axes>"
      ]
     },
     "metadata": {
      "needs_background": "light"
     },
     "output_type": "display_data"
    }
   ],
   "source": [
    "# 1st critical point\n",
    "A = .5\n",
    "B = 1 - A**2\n",
    "\n",
    "dt = 1e-2\n",
    "iterations = 10000\n",
    "\n",
    "time = np.linspace(0, dt * iterations, iterations)\n",
    "x = np.empty(shape=(iterations + 1), dtype=float)\n",
    "y = np.empty(shape=(iterations + 1), dtype=float)\n",
    "\n",
    "x[0] = 1.6\n",
    "y[0] = 2.8\n",
    "\n",
    "for i in range(0, iterations):\n",
    "    x[i + 1], y[i + 1] = RK4(x[i], y[i], dt, A, B)\n",
    "\n",
    "fig, (ax1, ax2) = plt.subplots(nrows=1, ncols=2, figsize=(16, 6))\n",
    "ax1.set_xlabel('Time', fontsize=14)\n",
    "ax1.set_ylabel('', fontsize=14)\n",
    "ax1.set_title('Brusselator', fontsize=14)\n",
    "\n",
    "l1, = ax1.plot(time, x[:-1], color='r', label='x')\n",
    "l2, = ax1.plot(time, y[:-1], color='b', label='y')\n",
    "\n",
    "ax2.set_xlabel('X', fontsize=14)\n",
    "ax2.set_ylabel('Y', fontsize=14)\n",
    "ax2.set_title('Phase Space', fontsize=14)\n",
    "\n",
    "l3, = ax2.plot(x, y, color='b')\n",
    "\n",
    "ax1.margins(x=0)\n",
    "ax2.margins(x=0)"
   ]
  },
  {
   "cell_type": "markdown",
   "metadata": {},
   "source": [
    "## Chemical Master Equation approach"
   ]
  },
  {
   "cell_type": "markdown",
   "metadata": {},
   "source": [
    "In physics, chemistry and related fields, master equations are used to describe the time evolution of a system that can be modelled as being in a probabilistic combination of states at any given time and the switching between states is determined by a transition rate matrix. \n",
    "\n",
    "The equations are a set of differential equations – over time – of the probabilities that the system occupies each of the different states. \n",
    "\n",
    "In each time step the system could lies only in one of the possible **discrete** state and its transition is modeled by a statistical/probabilistical approach."
   ]
  },
  {
   "cell_type": "markdown",
   "metadata": {},
   "source": [
    "There are some cases in which the probabilistic evolution of the system is prefered, expecially in the biological field: single cell experiments does not lead to equal results, but all of them could be grouped together using probability distributions.\n",
    "\n",
    "Particular interesting are also the systems in which the number of individuals is not large enough for a global description: in these cases the system kinetic shows too much statistical fluctuations to be modeled using the kinetic theory.\n",
    "\n",
    "In physic the concept of *noise* is a well studied research field but in the biological field it could be difficulty interpreted (biological variability or individual variability)."
   ]
  },
  {
   "cell_type": "markdown",
   "metadata": {},
   "source": [
    "For all these cases the usage of the **chemical master equation** (CME) can help us to reach a good description of the system.\n",
    "\n",
    "The most common (mathematical) form of the CME is given by\n",
    "\n",
    "$$\n",
    "\\frac{d\\vec{P}}{dt} = A \\vec{P}\n",
    "$$\n",
    "\n",
    "where $\\vec{P}$ represents a vector of states and $A$ is the transition/connection matrix.\n",
    "\n",
    "* When the connections between the possible states of the system are independent on time, then the MCE represents a **kinetic scheme** and we talk about a **Markov process**: in this case every jump from a state to another has an exponential probability to occur.\n",
    "\n",
    "* When the connections between the possible states depend on time ($A_{ij} = A_{ij}(t)$) we have a **non-stationary process**.\n",
    "\n",
    "The *stationary solution* of the CME is a *distribution of probabilities* and thus it is a function with many variables (which can help to easily fit the experimental data)."
   ]
  },
  {
   "cell_type": "markdown",
   "metadata": {},
   "source": [
    "The link between the CME and the LAM is given by the limit on the reaction volume, i.e\n",
    "\n",
    "$$\n",
    "\\text{CME} \\quad\\quad \\xrightarrow[]{V\\rightarrow \\infty} \\quad\\quad LAM\n",
    "$$\n",
    "\n",
    "which corresponds to increase the number of molecules involved in the reaction."
   ]
  },
  {
   "cell_type": "code",
   "execution_count": null,
   "metadata": {},
   "outputs": [],
   "source": []
  },
  {
   "cell_type": "code",
   "execution_count": null,
   "metadata": {},
   "outputs": [],
   "source": []
  },
  {
   "cell_type": "code",
   "execution_count": null,
   "metadata": {},
   "outputs": [],
   "source": []
  },
  {
   "cell_type": "code",
   "execution_count": null,
   "metadata": {},
   "outputs": [],
   "source": []
  },
  {
   "cell_type": "code",
   "execution_count": null,
   "metadata": {},
   "outputs": [],
   "source": []
  },
  {
   "cell_type": "code",
   "execution_count": null,
   "metadata": {},
   "outputs": [],
   "source": []
  }
 ],
 "metadata": {
  "kernelspec": {
   "display_name": "Python 3",
   "language": "python",
   "name": "python3"
  },
  "language_info": {
   "codemirror_mode": {
    "name": "ipython",
    "version": 3
   },
   "file_extension": ".py",
   "mimetype": "text/x-python",
   "name": "python",
   "nbconvert_exporter": "python",
   "pygments_lexer": "ipython3",
   "version": "3.8.10"
  }
 },
 "nbformat": 4,
 "nbformat_minor": 4
}
