{
 "cells": [
  {
   "cell_type": "markdown",
   "metadata": {},
   "source": [
    "## Metropolis-Hastings Algorithm"
   ]
  },
  {
   "cell_type": "markdown",
   "metadata": {},
   "source": [
    "In statistics and statistical physics, the Metropolis–Hastings algorithm is a Markov chain Monte Carlo (MCMC) method for obtaining a sequence of random samples from a probability distribution from which direct sampling is difficult. \n",
    "This sequence can be used to approximate the distribution (e.g. to generate a histogram) or to compute an integral (e.g. an expected value). \n",
    "Metropolis–Hastings and other MCMC algorithms are generally used for sampling from multi-dimensional distributions, especially when the number of dimensions is high."
   ]
  },
  {
   "cell_type": "markdown",
   "metadata": {},
   "source": [
    "The Metropolis–Hastings algorithm can draw samples from any probability distribution $P(x)$, provided that we know a function $f(x)$ proportional to the density of $P$ and the values of $f(x)$ can be calculated. \n",
    "The requirement that $f(x)$ must only be proportional to the density, rather than exactly equal to it, makes the Metropolis–Hastings algorithm particularly useful, because calculating the necessary normalization factor is often extremely difficult in practice.\n",
    "\n",
    "The Metropolis–Hastings algorithm works by generating a sequence of sample values in such a way that, as more and more sample values are produced, the distribution of values more closely approximates the desired distribution $P(x)$. \n",
    "These sample values are produced iteratively, with the distribution of the next sample being dependent only on the current sample value (thus making the sequence of samples into a Markov chain). \n",
    "Specifically, at each iteration, the algorithm picks a candidate for the next sample value based on the current sample value. \n",
    "Then, with some probability, the candidate is either accepted (in which case the candidate value is used in the next iteration) or rejected (in which case the candidate value is discarded, and current value is reused in the next iteration)—the probability of acceptance is determined by comparing the values of the function $f(x)$ of the current and candidate sample values with respect to the desired distribution $P(x)$. "
   ]
  },
  {
   "cell_type": "markdown",
   "metadata": {},
   "source": [
    "Monte Carlo methods vary, but tend to follow a particular pattern:\n",
    "\n",
    "* Define a domain of possible inputs\n",
    "* Generate inputs randomly from a probability distribution over the domain\n",
    "* Perform a deterministic computation on the inputs\n",
    "* Aggregate the results"
   ]
  },
  {
   "cell_type": "markdown",
   "metadata": {},
   "source": [
    "### Intuition"
   ]
  },
  {
   "cell_type": "markdown",
   "metadata": {},
   "source": [
    "First of all we need to include some useful (fundamental!) libraries"
   ]
  },
  {
   "cell_type": "code",
   "execution_count": 1,
   "metadata": {},
   "outputs": [],
   "source": [
    "import numpy as np # utility structs and math\n",
    "import pylab as plt # result visualization\n",
    "from time import time as now # time monitoring"
   ]
  },
  {
   "cell_type": "markdown",
   "metadata": {},
   "source": [
    "For example, consider a unitary circle inscribed in a unit square. \n",
    "\n",
    "The value of $\\pi$ can be approximated using a Monte Carlo method:\n",
    "\n",
    "* Draw a square, then inscribe a circle within it\n",
    "* Uniformly scatter a given number of points over the square\n",
    "* Count the number of points inside the circle, i.e. having a distance from the origin of less than $1$\n",
    "* The ratio of the inside-count and the total-sample-count is an estimate of the ratio of the two areas, $\\frac{\\pi}{4}$. \n",
    "* Multiply the result by 4 to estimate $\\pi$."
   ]
  },
  {
   "cell_type": "markdown",
   "metadata": {},
   "source": [
    "Lets start from a simple square domain $[-1, 1]$ in both the axes.\n",
    "\n",
    "**Note:** In this way we can consider a unitary circle included in it, i.e\n",
    "\n",
    "$$\n",
    "r=1 \\rightarrow A = \\pi r^2 = \\pi\n",
    "$$"
   ]
  },
  {
   "cell_type": "code",
   "execution_count": 2,
   "metadata": {},
   "outputs": [
    {
     "data": {
      "image/png": "[encoded data removed]",
      "text/plain": [
       "<Figure size 360x360 with 1 Axes>"
      ]
     },
     "metadata": {
      "needs_background": "light"
     },
     "output_type": "display_data"
    }
   ],
   "source": [
    "import matplotlib.patches as patches # necessary for geometric drawing\n",
    "\n",
    "fig, ax = plt.subplots(nrows=1, ncols=1, figsize=(5, 5))\n",
    "ax.set_xlim(-1.1, 1.1)\n",
    "ax.set_ylim(-1.1, 1.1)\n",
    "\n",
    "rect = patches.Rectangle((-1, -1), 2, 2, \n",
    "                         linewidth=1, \n",
    "                         edgecolor='k', \n",
    "                         facecolor='none', \n",
    "                         linestyle='dashed')\n",
    "circle = plt.Circle((0, 0), 1, color='r', alpha=.25)\n",
    "\n",
    "ax.add_patch(rect)\n",
    "ax.add_patch(circle)\n",
    "_ = ax.set_xticks([-1, -.5, 0, .5, 1.])\n",
    "_ = ax.set_yticks([-1, -.5, 0, .5, 1.])"
   ]
  },
  {
   "cell_type": "markdown",
   "metadata": {},
   "source": [
    "Now we can throw some points into our domain $[-1, 1]$, marking with a different color the points **inside** and **outside** the circle sub-domain."
   ]
  },
  {
   "cell_type": "code",
   "execution_count": 3,
   "metadata": {},
   "outputs": [
    {
     "data": {
      "image/png": "[encoded data removed]",
      "text/plain": [
       "<Figure size 360x360 with 1 Axes>"
      ]
     },
     "execution_count": 3,
     "metadata": {},
     "output_type": "execute_result"
    }
   ],
   "source": [
    "ax.scatter([-0.9, .7, -0.7], [-0.9, -0.8, .9], marker='x', color='b')\n",
    "ax.scatter([-0.5, .5, -0.3], [-0.8, -0.4, .4], marker='d', color='r')\n",
    "\n",
    "fig"
   ]
  },
  {
   "cell_type": "markdown",
   "metadata": {},
   "source": [
    "Now we can repeat this procedure for many iterations, counting how many times the points fall into the circle, in relation to the total number of throws.\n",
    "We can mathematically prove that the ratio of the inside-count (*hints*) and the total-sample-count is an estimate of the ratio of the two areas, i.e\n",
    "\n",
    "$$\n",
    "\\frac{A_{\\mbox{circle}}}{A_{\\mbox{square}}} = \\frac{\\pi r^2}{l^2} = \\frac{\\pi}{4} \\rightarrow \\pi = 4 \\times \\frac{N_\\mbox{hints}}{N_{\\mbox{points}}}\n",
    "$$"
   ]
  },
  {
   "cell_type": "markdown",
   "metadata": {},
   "source": [
    "#### Step1 - C++ like version"
   ]
  },
  {
   "cell_type": "markdown",
   "metadata": {},
   "source": [
    "Lets start from a very naive implementation of this algorithm, following step-by-step the pseudo-code instructions.\n",
    "\n",
    "This scheme of programming is very close to the C++ language, in which we have a \"low-control\" of the execution and a capillar management of the objects."
   ]
  },
  {
   "cell_type": "code",
   "execution_count": 4,
   "metadata": {},
   "outputs": [
    {
     "name": "stdout",
     "output_type": "stream",
     "text": [
      "pi with 100000 steps for 500 runs is 3.141358 in 37.608s\n"
     ]
    }
   ],
   "source": [
    "N_run = 500 # number of runs\n",
    "N = 100000 # number of MC events\n",
    "Nhits = 0.0 # number of points accepted\n",
    "pi = np.zeros(shape=(N_run,)) # values of pi\n",
    "\n",
    "tic = now() # start clock \n",
    "for I in range(N_run):\n",
    "    Nhits = 0.0\n",
    "    for i in range(N):\n",
    "        x = np.random.rand()*2 - 1\n",
    "        y = np.random.rand()*2 - 1\n",
    "        res = x*x + y*y\n",
    "        if res < 1:\n",
    "            Nhits += 1.0\n",
    "    pi[I] += 4. * Nhits/N\n",
    "\n",
    "toc = now()\n",
    "\n",
    "print ('pi with {:d} steps for {:d} runs is {:.6f} in {:.3f}s'.format(\n",
    "    N, N_run, np.mean(pi), toc-tic))"
   ]
  },
  {
   "cell_type": "code",
   "execution_count": 5,
   "metadata": {},
   "outputs": [
    {
     "data": {
      "text/plain": [
       "<matplotlib.legend.Legend at 0x1b1a422f3d0>"
      ]
     },
     "execution_count": 5,
     "metadata": {},
     "output_type": "execute_result"
    },
    {
     "data": {
      "image/png": "[encoded data removed]",
      "text/plain": [
       "<Figure size 360x360 with 1 Axes>"
      ]
     },
     "metadata": {
      "needs_background": "light"
     },
     "output_type": "display_data"
    }
   ],
   "source": [
    "fig, ax = plt.subplots(nrows=1, ncols=1, figsize=(5, 5))\n",
    "ax.hist(pi, bins=10, align='mid')\n",
    "ax.axvline(np.mean(pi), linestyle='dashed', color='k', label=r'$\\pi$={:.3f}'.format(np.mean(pi)))\n",
    "ax.legend(loc='best', fontsize=14)"
   ]
  },
  {
   "cell_type": "markdown",
   "metadata": {},
   "source": [
    "#### Step2 - A more Pythonic version"
   ]
  },
  {
   "cell_type": "markdown",
   "metadata": {},
   "source": [
    "In this case we can remember that the NumPy library provides a lot of functions for the random number generators able to perform a faster and more accurate computation.\n",
    "\n",
    "Moreover, is very (**very**) disadvantageous to use *for* loops in Python, and the use of pre-built functions is **always recommended**"
   ]
  },
  {
   "cell_type": "code",
   "execution_count": 6,
   "metadata": {},
   "outputs": [
    {
     "name": "stdout",
     "output_type": "stream",
     "text": [
      "pi with 100000 steps for 500 runs is 3.141406 in 1.066s\n"
     ]
    }
   ],
   "source": [
    "pi = np.empty(shape=(N_run,)) # values of pi\n",
    "\n",
    "tic = now() # start clock \n",
    "for I in range(N_run):\n",
    "    points = np.random.uniform(low=-1, high=1, size=(2, N))\n",
    "    areas = np.sum(points**2, axis=0)\n",
    "    Nhints = np.mean(areas < 1)\n",
    "    pi[I] = Nhints * 4\n",
    "\n",
    "toc = now()\n",
    "\n",
    "print ('pi with {:d} steps for {:d} runs is {:.6f} in {:.3f}s'.format(\n",
    "    N, N_run, np.mean(pi), toc-tic))"
   ]
  },
  {
   "cell_type": "code",
   "execution_count": 7,
   "metadata": {},
   "outputs": [
    {
     "data": {
      "text/plain": [
       "<matplotlib.legend.Legend at 0x1b1a43645e0>"
      ]
     },
     "execution_count": 7,
     "metadata": {},
     "output_type": "execute_result"
    },
    {
     "data": {
      "image/png": "[encoded data removed]",
      "text/plain": [
       "<Figure size 360x360 with 1 Axes>"
      ]
     },
     "metadata": {
      "needs_background": "light"
     },
     "output_type": "display_data"
    }
   ],
   "source": [
    "fig, ax = plt.subplots(nrows=1, ncols=1, figsize=(5, 5))\n",
    "ax.hist(pi, bins=10, align='mid')\n",
    "ax.axvline(np.mean(pi), linestyle='dashed', color='k', label=r'$\\pi$={:.3f}'.format(np.mean(pi)))\n",
    "ax.legend(loc='best', fontsize=14)"
   ]
  },
  {
   "cell_type": "markdown",
   "metadata": {},
   "source": [
    "### Step3 - Further improvements"
   ]
  },
  {
   "cell_type": "markdown",
   "metadata": {},
   "source": [
    "In the above example we have replaced the inner *for* loop with its corresponding \"NumPy version\".\n",
    "The same approach could be applied also for the outer *for* loop, taking care of the array dimensions of our object."
   ]
  },
  {
   "cell_type": "code",
   "execution_count": 8,
   "metadata": {},
   "outputs": [
    {
     "name": "stdout",
     "output_type": "stream",
     "text": [
      "pi with 100000 steps for 500 runs is 3.141567 in 1.066s\n"
     ]
    }
   ],
   "source": [
    "points = np.random.uniform(low=-1, high=1, size=(2, N_run, N))\n",
    "areas = points**2\n",
    "Nhints = np.sum(areas, axis=0) < 1\n",
    "pi = np.mean(Nhints, axis=1) * 4\n",
    "\n",
    "print ('pi with {:d} steps for {:d} runs is {:.6f} in {:.3f}s'.format(\n",
    "    N, N_run, np.mean(pi), toc-tic))"
   ]
  },
  {
   "cell_type": "code",
   "execution_count": 9,
   "metadata": {},
   "outputs": [
    {
     "data": {
      "text/plain": [
       "<matplotlib.legend.Legend at 0x1b1a43c4820>"
      ]
     },
     "execution_count": 9,
     "metadata": {},
     "output_type": "execute_result"
    },
    {
     "data": {
      "image/png": "[encoded data removed]",
      "text/plain": [
       "<Figure size 360x360 with 1 Axes>"
      ]
     },
     "metadata": {
      "needs_background": "light"
     },
     "output_type": "display_data"
    }
   ],
   "source": [
    "fig, ax = plt.subplots(nrows=1, ncols=1, figsize=(5, 5))\n",
    "ax.hist(pi, bins=10, align='mid')\n",
    "ax.axvline(np.mean(pi), linestyle='dashed', color='k', label=r'$\\pi$={:.3f}'.format(np.mean(pi)))\n",
    "ax.legend(loc='best', fontsize=14)"
   ]
  },
  {
   "cell_type": "markdown",
   "metadata": {},
   "source": [
    "    "
   ]
  },
  {
   "cell_type": "markdown",
   "metadata": {},
   "source": [
    "    "
   ]
  },
  {
   "cell_type": "markdown",
   "metadata": {},
   "source": [
    "#### Extra - C++ version"
   ]
  },
  {
   "cell_type": "markdown",
   "metadata": {},
   "source": [
    " For sake of completeness we implement the same functions also in C++.\n",
    " \n",
    " >⚠️**Note:** C++ is always **faster** than Python but more complex to write!\n",
    " > Furthermore, it is not straightforward the visualization of the results: if you are interested into a graphic library (please do not spend a lot of time to re-implement the same things!) you can use [GnuPlot](http://www.gnuplot.info/), [OpenCV](https://docs.opencv.org/3.4/d0/d1e/classcv_1_1plot_1_1Plot2d.html), or the easier [cv-plot](https://github.com/Profactor/cv-plot) libraries."
   ]
  },
  {
   "cell_type": "markdown",
   "metadata": {},
   "source": [
    "```c++\n",
    "// g++ metropolis.cpp -std=c++14 -O3 -o metropolis -fopenmp\n",
    "\n",
    "#include <random>\n",
    "#include <iostream>\n",
    "#include <iomanip>\n",
    "#include <numeric>\n",
    "#include <omp.h>\n",
    "\n",
    "int main()\n",
    "{\n",
    "  std :: random_device rd;\n",
    "  std :: mt19937 eng{rd()};\n",
    "  \n",
    "  int64_t N = 1e5, N_run = 1e4;\n",
    "  \n",
    "  double pi = 0.;\n",
    "  double start_time, run_time;\n",
    "    \n",
    "  std :: uniform_real_distribution < double > uniform_dist {-1., 1.};\n",
    "\n",
    "  omp_set_num_threads(omp_get_max_threads());\n",
    "  \n",
    "  start_time = omp_get_wtime();\n",
    "  #pragma omp parallel\n",
    "  {\n",
    "    #pragma omp for reduction (+ : pi)\n",
    "    for (int64_t I = 0; I < N_run; ++I)\n",
    "    {\n",
    "      int64_t Nhints = 0;\n",
    "            \n",
    "      #pragma omp parallel\n",
    "      {\n",
    "        #pragma omp for reduction (+ : Nhints)\n",
    "        for (int64_t i = 0; i < N; ++i)\n",
    "        {\n",
    "          const double x = uniform_dist(eng);\n",
    "          const double y = uniform_dist(eng);\n",
    "          const double res = x*x + y*y;\n",
    "          Nhints += res < 1 ? 1 : 0;\n",
    "        }\n",
    "      }\n",
    "      pi += 4.0 * (static_cast < double >(Nhints) / N);\n",
    "    }\n",
    "  }\n",
    "  \n",
    "  pi /= N_run;\n",
    "  run_time = omp_get_wtime() - start_time;\n",
    "  std :: cout << \"pi with \" << N << \" steps for \" << N_run << \" runs is \" << std :: setprecision(16) << pi << \" in \" << run_time << \" sec\" << std :: endl;\n",
    "    \n",
    "  return 0;\n",
    "}   \n",
    "```"
   ]
  }
 ],
 "metadata": {
  "kernelspec": {
   "display_name": "Python 3",
   "language": "python",
   "name": "python3"
  },
  "language_info": {
   "codemirror_mode": {
    "name": "ipython",
    "version": 3
   },
   "file_extension": ".py",
   "mimetype": "text/x-python",
   "name": "python",
   "nbconvert_exporter": "python",
   "pygments_lexer": "ipython3",
   "version": "3.8.5"
  }
 },
 "nbformat": 4,
 "nbformat_minor": 4
}
