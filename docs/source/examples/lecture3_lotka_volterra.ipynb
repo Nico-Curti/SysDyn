{
 "cells": [
  {
   "cell_type": "markdown",
   "metadata": {
    "id": "cqEseBR_MfTq"
   },
   "source": [
    "# Lotka Volterra"
   ]
  },
  {
   "cell_type": "markdown",
   "metadata": {
    "id": "ObpS8LAFMi9i"
   },
   "source": [
    "The Lotka–Volterra equations, also known as the *predator–prey* equations, are a pair of *first-order* **nonlinear** differential equations, frequently used to describe the dynamics of biological systems in which two species interact, one as a predator and the other as prey.\n",
    "The equations provides a mathematical framework for the description of **ecosystem** dynamics in which 2 species interact each other.\n",
    "\n",
    "The equations represent a syntesis among the population dynnamic (provided by Volterra) and the theory of autocatalytic chemical reactions with oscillating creation of chemical products (provided by Lotka).\n",
    "The equations describe an ideal system in which the increasing amount of \"food\" (prey eaten) leads to a growth of predators (reproduction)."
   ]
  },
  {
   "cell_type": "markdown",
   "metadata": {
    "id": "TKol-XegMk7f"
   },
   "source": [
    "Given $y(t)$ as the number of *predators* at time $t$ and $x(t)$ the number of *preys*, the Lotka-Volterra system of equations is:\n",
    "\n",
    "$$\n",
    "\\begin{align*}\n",
    "    \\frac{dx}{dt} &= +\\alpha x  - \\beta xy \\\\\n",
    "    \\frac{dy}{dt} &= +\\delta xy - \\gamma y \\\\\n",
    "\\end{align*}\n",
    "$$\n",
    "\n",
    "where the sign $+$ identifies the \"birth\" terms (preys grows up autonomally, while predators need preys) and the negative terms ($-$) identifies the \"death\" terms (vice versa between predators and preys)\n",
    "\n",
    "The $\\alpha x$ term is analogous to the logistic growth: more preys and more preys birth.\n",
    "The terms $\\alpha$, $\\beta$, $\\gamma$, and $\\delta$ are the **interaction terms** between the two species and they weight the growth of predator-prey populations.\n",
    "\n",
    "The Lotka–Volterra system of equations is an example of a Kolmogorov model, which is a more general framework that can model the dynamics of ecological systems with predator–prey interactions, competition, disease, and mutualism. "
   ]
  },
  {
   "cell_type": "markdown",
   "metadata": {
    "id": "wN_OtNPxMnEY"
   },
   "source": [
    "Lets try to deduce some characteristics of the model looking the form of the equations:\n",
    "\n",
    "* The growth of predators ($y$) is strictly related to the number of preys ($x$).\n",
    "    * if $y > x$ only a portion of the predators will have enough \"food\" for their reproduction with a consequent decrement of their number.\n",
    "    * if $y < x$ the preys can increase their number since they are prevalently \"safe\"; however all the predators have (more than) enough \"food\" for their reproduction and they will tend to increase.\n",
    "    This behavior leads to an **oscillating regime** of the system!\n",
    "    \n",
    "* The main assumption behind this model (i.e ideal factor) is the **unlimited growth** of prey population when the number of predators is 0 ($y = 0$).\n",
    "    An improvement of the model can be achieved including (as for the improved Malthusian model) an extra term $-\\xi x^2$ which reduce the ideality of the model.\n",
    "\n",
    "* An analogous argumentation can be applied for the exponential decay of the predators when the preys are zero ($x = 0$).\n",
    "\n",
    "* Further correction factors can be included considering genetic terms which model the adaptation of the species in the environment."
   ]
  },
  {
   "cell_type": "markdown",
   "metadata": {
    "id": "JfzbPOLWMpUO"
   },
   "source": [
    "Starting from the implementation of the model in Python, we will try to perform a numerical analysis of the dynamic of this simple system.\n",
    "\n",
    "As always we will use the *odeint* function of *scipy* for the numerical integration of the 2 ODEs."
   ]
  },
  {
   "cell_type": "code",
   "execution_count": 1,
   "metadata": {
    "executionInfo": {
     "elapsed": 369,
     "status": "ok",
     "timestamp": 1632142589354,
     "user": {
      "displayName": "nico nico",
      "photoUrl": "https://lh3.googleusercontent.com/a/default-user=s64",
      "userId": "04264570794863623616"
     },
     "user_tz": -120
    },
    "id": "OFnH4ogJMsyJ"
   },
   "outputs": [],
   "source": [
    "import numpy as np\n",
    "\n",
    "def lotka_volterra (xy : tuple, t : np.ndarray, \n",
    "                    alpha : float, beta : float, \n",
    "                    delta : float, gamma : float) -> tuple:\n",
    "    '''\n",
    "    Lotka-Volterra ODE\n",
    "    \n",
    "    Parameters\n",
    "    ----------\n",
    "        xy : tuple\n",
    "            List of x and y Lotka-Volterra signals\n",
    "            \n",
    "        t : array-like\n",
    "            List of time points\n",
    "        \n",
    "        alpha : float\n",
    "            Preys growth factor\n",
    "        \n",
    "        beta : float\n",
    "            Preys decay factor\n",
    "        \n",
    "        delta : float\n",
    "            Predators growth factor\n",
    "        \n",
    "        gamma : float\n",
    "            Predators growth factor\n",
    "    \n",
    "    Returns\n",
    "    -------\n",
    "        xynew : tuple\n",
    "            Next point of x and y dynamic\n",
    "    '''\n",
    "    \n",
    "    x, y = xy\n",
    "    dx = alpha * x - beta * x * y\n",
    "    dy = delta * x * y - gamma * y\n",
    "    return (dx, dy)"
   ]
  },
  {
   "cell_type": "code",
   "execution_count": 2,
   "metadata": {
    "colab": {
     "base_uri": "https://localhost:8080/",
     "height": 420
    },
    "executionInfo": {
     "elapsed": 1050,
     "status": "ok",
     "timestamp": 1632142590402,
     "user": {
      "displayName": "nico nico",
      "photoUrl": "https://lh3.googleusercontent.com/a/default-user=s64",
      "userId": "04264570794863623616"
     },
     "user_tz": -120
    },
    "id": "2F-dWLSiMxPw",
    "outputId": "f393bef5-e568-4481-b4b3-435513b16c93"
   },
   "outputs": [
    {
     "data": {
      "text/plain": [
       "<matplotlib.legend.Legend at 0x7fdae4b7f090>"
      ]
     },
     "execution_count": 2,
     "metadata": {},
     "output_type": "execute_result"
    },
    {
     "data": {
      "image/png": "[encoded data removed]",
      "text/plain": [
       "<Figure size 576x432 with 1 Axes>"
      ]
     },
     "metadata": {
      "needs_background": "light"
     },
     "output_type": "display_data"
    }
   ],
   "source": [
    "import pylab as plt\n",
    "from scipy.integrate import odeint\n",
    "\n",
    "# initial conditions\n",
    "xy0 = (1, 2) # (x0, y0)\n",
    "alpha, beta, delta, gamma = (1.2, 1.4, 1.5, 1.7)\n",
    "\n",
    "time = np.linspace(0, 30, 1000)\n",
    "xy = odeint(lotka_volterra, xy0, time, \n",
    "            args=(alpha, beta, delta, gamma))\n",
    "dx, dy = zip(*xy)\n",
    "\n",
    "fig, ax = plt.subplots(nrows=1, ncols=1, figsize=(8, 6))\n",
    "ax.plot(time, dx, label='$x(t)$')\n",
    "ax.plot(time, dy, label='$y(t)$')\n",
    "ax.set_xlabel('Time', fontsize=24)\n",
    "ax.set_ylabel('Lotka-Volterra', fontsize=24)\n",
    "ax.legend()"
   ]
  },
  {
   "cell_type": "markdown",
   "metadata": {
    "id": "58JRAN0cclhh"
   },
   "source": [
    "## Stability Analysis"
   ]
  },
  {
   "cell_type": "markdown",
   "metadata": {
    "id": "ox7ve1XUMreO"
   },
   "source": [
    "Given the Lotka-Volterra system of equations, we can determine its stable points (points of *equilibrium*).\n",
    "We have a stable point when the level of both the populations remains **constant**, i.e $x(t) = x^*$ and $y(t) = y^*$ for each time $t$.\n",
    "As consequence, both the derivatives will be null, i.e\n",
    "\n",
    "$$\n",
    "\\begin{align*}\n",
    "    \\alpha x^* - \\beta x^* y^* &= 0 \\\\\n",
    "    \\delta x^*y^* - \\gamma y^* &= 0 \\\\\n",
    "\\end{align*}\n",
    "$$\n",
    "\n",
    "This system of equation is very simple to solve, *but* unfortunately we are very lazy persons and we prefer to obtain its solution by the computer...\n",
    "\n",
    "To this purpose we can use the *Symbolic Computation* provided by the **SymPy** library in Python."
   ]
  },
  {
   "cell_type": "code",
   "execution_count": 3,
   "metadata": {
    "colab": {
     "base_uri": "https://localhost:8080/"
    },
    "executionInfo": {
     "elapsed": 463,
     "status": "ok",
     "timestamp": 1632142590863,
     "user": {
      "displayName": "nico nico",
      "photoUrl": "https://lh3.googleusercontent.com/a/default-user=s64",
      "userId": "04264570794863623616"
     },
     "user_tz": -120
    },
    "id": "xlLZYPv1M9Dc",
    "outputId": "ac6da321-4e8b-4ebc-c316-1ac3540f85e7"
   },
   "outputs": [
    {
     "name": "stdout",
     "output_type": "stream",
     "text": [
      "(𝑥∗, 𝑦∗) = (0, 0)\n",
      "(𝑥∗, 𝑦∗) = (gamma/delta, alpha/beta)\n"
     ]
    }
   ],
   "source": [
    "from sympy import symbols\n",
    "from sympy import solve\n",
    "\n",
    "x, y = symbols('x, y')\n",
    "alpha, beta, delta, gamma = symbols('alpha, beta, delta, gamma')\n",
    "\n",
    "dx = alpha * x - beta * x * y\n",
    "dy = delta * x * y - gamma * y\n",
    "stable_points = solve([dx, dy], (x, y))\n",
    "\n",
    "print('\\n'.join([r'(𝑥∗, 𝑦∗) = ({}, {})'.format(*x) \n",
    "                 for x in stable_points]))"
   ]
  },
  {
   "cell_type": "markdown",
   "metadata": {
    "id": "Q0q49OD6NA3H"
   },
   "source": [
    "We have found 2 points of equilibrium: the 1st ($0, 0$) is related to the extinction of both the populations; the 2nd $\\left(\\frac{\\gamma}{\\delta}, \\frac{\\alpha}{\\beta}\\right)$ corresponds to a perfect equilibrium between preys \"eaten\" and preys \"produced\"."
   ]
  },
  {
   "cell_type": "markdown",
   "metadata": {
    "id": "DbYbjfE9NCTB"
   },
   "source": [
    "A second analysis can be performed studying the stability of equilibrium points.\n",
    "This can be obtained studying the determinant of the Jacobian matrix associated to the system, i.e\n",
    "\n",
    "$$\n",
    "J(x, y) = \\begin{bmatrix} \\alpha - \\beta y & -\\beta x \\\\ \\delta y & \\delta x - \\gamma \\end{bmatrix}\n",
    "$$\n",
    "\n",
    "The matrix is obtained considering the dependecy by $x$ (first column) and $y$ (second column) of the two ODEs, independently.\n",
    "Now we can substitute the equilibrium points obtained above into the matrix and compute the corresponding eigenvalues.\n",
    "\n",
    "* 1st point: $(0, 0)$\n",
    "\n",
    "$$\n",
    "J(0, 0) = \\begin{bmatrix} \\alpha & 0 \\\\ 0 & -\\gamma \\end{bmatrix}\n",
    "$$\n",
    "\n",
    "* 2nd point: $\\left(\\frac{\\gamma}{\\delta}, \\frac{\\alpha}{\\beta}\\right)$\n",
    "\n",
    "$$\n",
    "J\\left(\\frac{\\gamma}{\\delta}, \\frac{\\alpha}{\\beta}\\right) = \\begin{bmatrix} 0 & -\\beta\\frac{\\gamma}{\\delta} \\\\ \\alpha\\frac{\\delta}{\\beta} & 0 \\end{bmatrix}\n",
    "$$"
   ]
  },
  {
   "cell_type": "markdown",
   "metadata": {
    "id": "nskGY5KhNN6x"
   },
   "source": [
    "For the computation of the eigenvalue solutions we can use the Symbolic Computation as performed above."
   ]
  },
  {
   "cell_type": "code",
   "execution_count": 4,
   "metadata": {
    "colab": {
     "base_uri": "https://localhost:8080/"
    },
    "executionInfo": {
     "elapsed": 7,
     "status": "ok",
     "timestamp": 1632142590864,
     "user": {
      "displayName": "nico nico",
      "photoUrl": "https://lh3.googleusercontent.com/a/default-user=s64",
      "userId": "04264570794863623616"
     },
     "user_tz": -120
    },
    "id": "VdI10723M-Pm",
    "outputId": "ab32678c-c2fc-46a6-dcd3-9098d700b5ae"
   },
   "outputs": [
    {
     "name": "stdout",
     "output_type": "stream",
     "text": [
      "Eigenvalue 0: alpha\n",
      "Eigenvalue 1: -gamma\n"
     ]
    }
   ],
   "source": [
    "from sympy import symbols\n",
    "from sympy import Matrix\n",
    "\n",
    "x, y = symbols('x, y')\n",
    "alpha, beta, delta, gamma = symbols('alpha, beta, delta, gamma')\n",
    "\n",
    "J = Matrix([[alpha - beta * y, -beta * x], \n",
    "            [delta * y, delta * x - gamma]])\n",
    "\n",
    "# substitute the 1st stable point\n",
    "J_1st = J.subs([*zip([x, y], stable_points[0])])\n",
    "\n",
    "# compute the eigenvalues\n",
    "print('\\n'.join(['Eigenvalue {:d}: {}'.format(i, k) \n",
    "                 for i, (k, v) in enumerate(J_1st.eigenvals().items())]))"
   ]
  },
  {
   "cell_type": "markdown",
   "metadata": {
    "id": "z-2FAauaNSSl"
   },
   "source": [
    "The two eigenvalues are always different and therefore the point of equilibrium is classified as *saddle point*, characteristic of an **unstable equilibrium**.\n",
    "\n",
    ">⚠️**Note:** A little change in initial condition, in fact, leads to an oscillating dynamic!"
   ]
  },
  {
   "cell_type": "markdown",
   "metadata": {
    "id": "MeQqwTlNNTIA"
   },
   "source": [
    "Lets move to the 2nd point of equilibrium."
   ]
  },
  {
   "cell_type": "code",
   "execution_count": 5,
   "metadata": {
    "colab": {
     "base_uri": "https://localhost:8080/"
    },
    "executionInfo": {
     "elapsed": 5,
     "status": "ok",
     "timestamp": 1632142590864,
     "user": {
      "displayName": "nico nico",
      "photoUrl": "https://lh3.googleusercontent.com/a/default-user=s64",
      "userId": "04264570794863623616"
     },
     "user_tz": -120
    },
    "id": "4fxQRsiNNQBl",
    "outputId": "ad50eeb0-872b-425d-8878-b9ce641eb8be"
   },
   "outputs": [
    {
     "name": "stdout",
     "output_type": "stream",
     "text": [
      "Eigenvalue 0: -sqrt(-alpha*gamma)\n",
      "Eigenvalue 1: sqrt(-alpha*gamma)\n"
     ]
    }
   ],
   "source": [
    "# substitute the 1st stable point\n",
    "J_2nd = J.subs([*zip([x, y], stable_points[1])])\n",
    "\n",
    "# compute the eigenvalues\n",
    "print('\\n'.join(['Eigenvalue {:d}: {}'.format(i, k) \n",
    "                 for i, (k, v) in enumerate(J_2nd.eigenvals().items())]))"
   ]
  },
  {
   "cell_type": "markdown",
   "metadata": {
    "id": "OfCTbj4tNbD8"
   },
   "source": [
    "The two eigenvalues are complex (**note the minus sign under the sqrt!**) with a real component equal to zero.\n",
    "This identifies a **stable equilibrium** with consequent oscillating orbits around it."
   ]
  },
  {
   "cell_type": "markdown",
   "metadata": {
    "id": "XgA5P3UxNbyN"
   },
   "source": [
    "We can better appreciate the results obtained by our analysis plotting the phase space of the system under different conditions."
   ]
  },
  {
   "cell_type": "code",
   "execution_count": 50,
   "metadata": {
    "colab": {
     "base_uri": "https://localhost:8080/",
     "height": 711,
     "referenced_widgets": [
      "02f848edf443468282918983cd2cedb7",
      "3edb3f9122934c1fa63ff9d1b312bed1",
      "1bfc309d37624daeb3a5cbfd61c7c421",
      "09ff623de2c54fd796f3841512efd886",
      "032c3153be2145e4b49a02d16bf3b8f1",
      "b921bd1a750144f49009f5eb4dec8e51",
      "4e143e9ad9b747a7be4850f54c9f9432",
      "ce61e844fd594a5fb59e5a29b674a3eb",
      "4d067b6f62154fbbaad1b79450b11721",
      "9aec47cc4cd443aeb44b21b1e23ad0e8"
     ]
    },
    "executionInfo": {
     "elapsed": 795,
     "status": "ok",
     "timestamp": 1632145369293,
     "user": {
      "displayName": "nico nico",
      "photoUrl": "https://lh3.googleusercontent.com/a/default-user=s64",
      "userId": "04264570794863623616"
     },
     "user_tz": -120
    },
    "id": "fpdCX2G8NX81",
    "outputId": "f3e27fe2-db3e-4027-aeb9-d44fca8eeb4a"
   },
   "outputs": [
    {
     "data": {
      "application/vnd.jupyter.widget-view+json": {
       "model_id": "02f848edf443468282918983cd2cedb7",
       "version_major": 2,
       "version_minor": 0
      },
      "text/plain": [
       "interactive(children=(FloatSlider(value=0.6, description='x0', max=1.1333333333333333, step=0.01), FloatSlider…"
      ]
     },
     "metadata": {},
     "output_type": "display_data"
    }
   ],
   "source": [
    "from ipywidgets import interact\n",
    "\n",
    "xy0 = (0.6, 0.4)\n",
    "alpha, beta, delta, gamma = (1.2, 1.4, 1.5, 1.7)\n",
    "\n",
    "time = np.linspace(0, 30, 1000)\n",
    "\n",
    "@interact(x0=(0, gamma/delta, .01), y0=(0., alpha/beta, .01))\n",
    "def update (x0=xy0[0], y0=xy0[1]):\n",
    "    xy0 = (x0, y0)\n",
    "    xy = odeint(lotka_volterra, xy0, time, args=(alpha, beta, delta, gamma))\n",
    "    dx, dy = zip(*xy)\n",
    "\n",
    "    fig, (ax1, ax2) = plt.subplots(nrows=1, ncols=2, figsize=(20, 10))\n",
    "    fig.subplots_adjust(top=0.95, bottom=.15)\n",
    "    xt, = ax1.plot(time, dx, label='$x(t)$')\n",
    "    yt, = ax1.plot(time, dy, label='$y(t)$')\n",
    "    ax1.set_xlabel('Time', fontsize=12)\n",
    "    ax1.set_ylabel('Lotka-Volterra', fontsize=12)\n",
    "    ax1.legend(loc='upper right')\n",
    "    ax1.set_ylim(-.5, 12)\n",
    "\n",
    "    xyt, = ax2.plot(dx, dy)\n",
    "    ax2.set_xlabel('$x(t)$', fontsize=12)\n",
    "    ax2.set_ylabel('$y(t)$', fontsize=12)\n",
    "    ax2.set_xlim(-.5, 12)\n",
    "    ax2.set_ylim(-.5, 12)"
   ]
  }
 ],
 "metadata": {
  "colab": {
   "authorship_tag": "ABX9TyMAzCpuKqTCYTwq1nU25Tw5",
   "collapsed_sections": [],
   "name": "lecture3_lotka_volterra.ipynb",
   "provenance": [],
   "toc_visible": true
  },
  "kernelspec": {
   "display_name": "Python 3",
   "language": "python",
   "name": "python3"
  },
  "language_info": {
   "codemirror_mode": {
    "name": "ipython",
    "version": 3
   },
   "file_extension": ".py",
   "mimetype": "text/x-python",
   "name": "python",
   "nbconvert_exporter": "python",
   "pygments_lexer": "ipython3",
   "version": "3.8.5"
  },
  "widgets": {
   "application/vnd.jupyter.widget-state+json": {
    "02f848edf443468282918983cd2cedb7": {
     "model_module": "@jupyter-widgets/controls",
     "model_module_version": "1.5.0",
     "model_name": "VBoxModel",
     "state": {
      "_dom_classes": [
       "widget-interact"
      ],
      "_model_module": "@jupyter-widgets/controls",
      "_model_module_version": "1.5.0",
      "_model_name": "VBoxModel",
      "_view_count": null,
      "_view_module": "@jupyter-widgets/controls",
      "_view_module_version": "1.5.0",
      "_view_name": "VBoxView",
      "box_style": "",
      "children": [
       "IPY_MODEL_1bfc309d37624daeb3a5cbfd61c7c421",
       "IPY_MODEL_09ff623de2c54fd796f3841512efd886",
       "IPY_MODEL_032c3153be2145e4b49a02d16bf3b8f1"
      ],
      "layout": "IPY_MODEL_3edb3f9122934c1fa63ff9d1b312bed1"
     }
    },
    "032c3153be2145e4b49a02d16bf3b8f1": {
     "model_module": "@jupyter-widgets/output",
     "model_module_version": "1.0.0",
     "model_name": "OutputModel",
     "state": {
      "_dom_classes": [],
      "_model_module": "@jupyter-widgets/output",
      "_model_module_version": "1.0.0",
      "_model_name": "OutputModel",
      "_view_count": null,
      "_view_module": "@jupyter-widgets/output",
      "_view_module_version": "1.0.0",
      "_view_name": "OutputView",
      "layout": "IPY_MODEL_9aec47cc4cd443aeb44b21b1e23ad0e8",
      "msg_id": "",
      "outputs": [
       {
        "data": {
         "image/png": "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\n",
         "text/plain": "<Figure size 1440x720 with 2 Axes>"
        },
        "metadata": {
         "needs_background": "light"
        },
        "output_type": "display_data"
       }
      ]
     }
    },
    "09ff623de2c54fd796f3841512efd886": {
     "model_module": "@jupyter-widgets/controls",
     "model_module_version": "1.5.0",
     "model_name": "FloatSliderModel",
     "state": {
      "_dom_classes": [],
      "_model_module": "@jupyter-widgets/controls",
      "_model_module_version": "1.5.0",
      "_model_name": "FloatSliderModel",
      "_view_count": null,
      "_view_module": "@jupyter-widgets/controls",
      "_view_module_version": "1.5.0",
      "_view_name": "FloatSliderView",
      "continuous_update": true,
      "description": "y0",
      "description_tooltip": null,
      "disabled": false,
      "layout": "IPY_MODEL_4d067b6f62154fbbaad1b79450b11721",
      "max": 0.8571428571428572,
      "min": 0,
      "orientation": "horizontal",
      "readout": true,
      "readout_format": ".2f",
      "step": 0.01,
      "style": "IPY_MODEL_ce61e844fd594a5fb59e5a29b674a3eb",
      "value": 0.4
     }
    },
    "1bfc309d37624daeb3a5cbfd61c7c421": {
     "model_module": "@jupyter-widgets/controls",
     "model_module_version": "1.5.0",
     "model_name": "FloatSliderModel",
     "state": {
      "_dom_classes": [],
      "_model_module": "@jupyter-widgets/controls",
      "_model_module_version": "1.5.0",
      "_model_name": "FloatSliderModel",
      "_view_count": null,
      "_view_module": "@jupyter-widgets/controls",
      "_view_module_version": "1.5.0",
      "_view_name": "FloatSliderView",
      "continuous_update": true,
      "description": "x0",
      "description_tooltip": null,
      "disabled": false,
      "layout": "IPY_MODEL_4e143e9ad9b747a7be4850f54c9f9432",
      "max": 1.1333333333333333,
      "min": 0,
      "orientation": "horizontal",
      "readout": true,
      "readout_format": ".2f",
      "step": 0.01,
      "style": "IPY_MODEL_b921bd1a750144f49009f5eb4dec8e51",
      "value": 0.6
     }
    },
    "3edb3f9122934c1fa63ff9d1b312bed1": {
     "model_module": "@jupyter-widgets/base",
     "model_module_version": "1.2.0",
     "model_name": "LayoutModel",
     "state": {
      "_model_module": "@jupyter-widgets/base",
      "_model_module_version": "1.2.0",
      "_model_name": "LayoutModel",
      "_view_count": null,
      "_view_module": "@jupyter-widgets/base",
      "_view_module_version": "1.2.0",
      "_view_name": "LayoutView",
      "align_content": null,
      "align_items": null,
      "align_self": null,
      "border": null,
      "bottom": null,
      "display": null,
      "flex": null,
      "flex_flow": null,
      "grid_area": null,
      "grid_auto_columns": null,
      "grid_auto_flow": null,
      "grid_auto_rows": null,
      "grid_column": null,
      "grid_gap": null,
      "grid_row": null,
      "grid_template_areas": null,
      "grid_template_columns": null,
      "grid_template_rows": null,
      "height": null,
      "justify_content": null,
      "justify_items": null,
      "left": null,
      "margin": null,
      "max_height": null,
      "max_width": null,
      "min_height": null,
      "min_width": null,
      "object_fit": null,
      "object_position": null,
      "order": null,
      "overflow": null,
      "overflow_x": null,
      "overflow_y": null,
      "padding": null,
      "right": null,
      "top": null,
      "visibility": null,
      "width": null
     }
    },
    "4d067b6f62154fbbaad1b79450b11721": {
     "model_module": "@jupyter-widgets/base",
     "model_module_version": "1.2.0",
     "model_name": "LayoutModel",
     "state": {
      "_model_module": "@jupyter-widgets/base",
      "_model_module_version": "1.2.0",
      "_model_name": "LayoutModel",
      "_view_count": null,
      "_view_module": "@jupyter-widgets/base",
      "_view_module_version": "1.2.0",
      "_view_name": "LayoutView",
      "align_content": null,
      "align_items": null,
      "align_self": null,
      "border": null,
      "bottom": null,
      "display": null,
      "flex": null,
      "flex_flow": null,
      "grid_area": null,
      "grid_auto_columns": null,
      "grid_auto_flow": null,
      "grid_auto_rows": null,
      "grid_column": null,
      "grid_gap": null,
      "grid_row": null,
      "grid_template_areas": null,
      "grid_template_columns": null,
      "grid_template_rows": null,
      "height": null,
      "justify_content": null,
      "justify_items": null,
      "left": null,
      "margin": null,
      "max_height": null,
      "max_width": null,
      "min_height": null,
      "min_width": null,
      "object_fit": null,
      "object_position": null,
      "order": null,
      "overflow": null,
      "overflow_x": null,
      "overflow_y": null,
      "padding": null,
      "right": null,
      "top": null,
      "visibility": null,
      "width": null
     }
    },
    "4e143e9ad9b747a7be4850f54c9f9432": {
     "model_module": "@jupyter-widgets/base",
     "model_module_version": "1.2.0",
     "model_name": "LayoutModel",
     "state": {
      "_model_module": "@jupyter-widgets/base",
      "_model_module_version": "1.2.0",
      "_model_name": "LayoutModel",
      "_view_count": null,
      "_view_module": "@jupyter-widgets/base",
      "_view_module_version": "1.2.0",
      "_view_name": "LayoutView",
      "align_content": null,
      "align_items": null,
      "align_self": null,
      "border": null,
      "bottom": null,
      "display": null,
      "flex": null,
      "flex_flow": null,
      "grid_area": null,
      "grid_auto_columns": null,
      "grid_auto_flow": null,
      "grid_auto_rows": null,
      "grid_column": null,
      "grid_gap": null,
      "grid_row": null,
      "grid_template_areas": null,
      "grid_template_columns": null,
      "grid_template_rows": null,
      "height": null,
      "justify_content": null,
      "justify_items": null,
      "left": null,
      "margin": null,
      "max_height": null,
      "max_width": null,
      "min_height": null,
      "min_width": null,
      "object_fit": null,
      "object_position": null,
      "order": null,
      "overflow": null,
      "overflow_x": null,
      "overflow_y": null,
      "padding": null,
      "right": null,
      "top": null,
      "visibility": null,
      "width": null
     }
    },
    "9aec47cc4cd443aeb44b21b1e23ad0e8": {
     "model_module": "@jupyter-widgets/base",
     "model_module_version": "1.2.0",
     "model_name": "LayoutModel",
     "state": {
      "_model_module": "@jupyter-widgets/base",
      "_model_module_version": "1.2.0",
      "_model_name": "LayoutModel",
      "_view_count": null,
      "_view_module": "@jupyter-widgets/base",
      "_view_module_version": "1.2.0",
      "_view_name": "LayoutView",
      "align_content": null,
      "align_items": null,
      "align_self": null,
      "border": null,
      "bottom": null,
      "display": null,
      "flex": null,
      "flex_flow": null,
      "grid_area": null,
      "grid_auto_columns": null,
      "grid_auto_flow": null,
      "grid_auto_rows": null,
      "grid_column": null,
      "grid_gap": null,
      "grid_row": null,
      "grid_template_areas": null,
      "grid_template_columns": null,
      "grid_template_rows": null,
      "height": null,
      "justify_content": null,
      "justify_items": null,
      "left": null,
      "margin": null,
      "max_height": null,
      "max_width": null,
      "min_height": null,
      "min_width": null,
      "object_fit": null,
      "object_position": null,
      "order": null,
      "overflow": null,
      "overflow_x": null,
      "overflow_y": null,
      "padding": null,
      "right": null,
      "top": null,
      "visibility": null,
      "width": null
     }
    },
    "b921bd1a750144f49009f5eb4dec8e51": {
     "model_module": "@jupyter-widgets/controls",
     "model_module_version": "1.5.0",
     "model_name": "SliderStyleModel",
     "state": {
      "_model_module": "@jupyter-widgets/controls",
      "_model_module_version": "1.5.0",
      "_model_name": "SliderStyleModel",
      "_view_count": null,
      "_view_module": "@jupyter-widgets/base",
      "_view_module_version": "1.2.0",
      "_view_name": "StyleView",
      "description_width": "",
      "handle_color": null
     }
    },
    "ce61e844fd594a5fb59e5a29b674a3eb": {
     "model_module": "@jupyter-widgets/controls",
     "model_module_version": "1.5.0",
     "model_name": "SliderStyleModel",
     "state": {
      "_model_module": "@jupyter-widgets/controls",
      "_model_module_version": "1.5.0",
      "_model_name": "SliderStyleModel",
      "_view_count": null,
      "_view_module": "@jupyter-widgets/base",
      "_view_module_version": "1.2.0",
      "_view_name": "StyleView",
      "description_width": "",
      "handle_color": null
     }
    }
   }
  }
 },
 "nbformat": 4,
 "nbformat_minor": 1
}
